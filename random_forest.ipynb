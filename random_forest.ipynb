{
 "cells": [
  {
   "cell_type": "code",
   "execution_count": 6,
   "metadata": {},
   "outputs": [],
   "source": [
    "%matplotlib inline\n",
    "import numpy as np # linear algebra\n",
    "import pandas as pd # data processing, CSV file I/O (e.g. pd.read_csv)\n",
    "import matplotlib.pyplot as plt\n",
    "import seaborn as sns\n",
    "from scipy.stats import mode\n",
    "from preprocessing import *\n",
    "# from grouping_features import grouping "
   ]
  },
  {
   "cell_type": "code",
   "execution_count": 34,
   "metadata": {},
   "outputs": [],
   "source": [
    "data = pd.read_csv('train.csv')\n",
    "test = pd.read_csv('test.csv')\n",
    "train=data.sample(frac=0.8,random_state=200)\n",
    "val=data.drop(train.index)\n"
   ]
  },
  {
   "cell_type": "code",
   "execution_count": 35,
   "metadata": {},
   "outputs": [
    {
     "data": {
      "text/plain": [
       "{'GdPrv': [], nan: [], 'GdWo': ['MnPrv'], 'MnPrv': [], 'MnWw': []}"
      ]
     },
     "execution_count": 35,
     "metadata": {},
     "output_type": "execute_result"
    }
   ],
   "source": [
    "grouping('Fence', train, 10000)"
   ]
  },
  {
   "cell_type": "code",
   "execution_count": null,
   "metadata": {},
   "outputs": [],
   "source": [
    "test.SaleType.value_counts()"
   ]
  },
  {
   "cell_type": "code",
   "execution_count": null,
   "metadata": {},
   "outputs": [],
   "source": [
    "len(train.SaleType_ConLw)"
   ]
  },
  {
   "cell_type": "code",
   "execution_count": null,
   "metadata": {},
   "outputs": [],
   "source": [
    "train = pre_process(train, val, test, True)\n",
    "val = pre_process(val, None, None, False)\n",
    "test= pre_process(test, None, None, False)\n",
    "train, val, test= group(train, val, test)"
   ]
  },
  {
   "cell_type": "code",
   "execution_count": null,
   "metadata": {
    "collapsed": true
   },
   "outputs": [],
   "source": [
    "test.PavedDrive.replace(to_replace = ['N'], value = ['P'], inplace=True)"
   ]
  },
  {
   "cell_type": "code",
   "execution_count": null,
   "metadata": {
    "collapsed": true
   },
   "outputs": [],
   "source": [
    "def rmse(y_pred, y):\n",
    "    return np.sqrt(np.mean(np.square(y_pred-y)))\n",
    "def rmsle(y_pred, y):\n",
    "    return np.sqrt(np.mean(np.square(np.log(y_pred+1) - np.log(y+1))))\n"
   ]
  },
  {
   "cell_type": "code",
   "execution_count": null,
   "metadata": {
    "collapsed": true
   },
   "outputs": [],
   "source": [
    "train = pd.get_dummies(train)\n",
    "val = pd.get_dummies(val)\n",
    "test=pd.get_dummies(test)"
   ]
  },
  {
   "cell_type": "code",
   "execution_count": null,
   "metadata": {},
   "outputs": [],
   "source": [
    "set(test) - set(train)"
   ]
  },
  {
   "cell_type": "code",
   "execution_count": null,
   "metadata": {
    "collapsed": true
   },
   "outputs": [],
   "source": [
    "train.SaleType.replace(to_replace = )"
   ]
  },
  {
   "cell_type": "code",
   "execution_count": null,
   "metadata": {},
   "outputs": [],
   "source": [
    "train.groupby('SaleType').min()[['SalePrice']]['SalePrice'].sort_values()"
   ]
  },
  {
   "cell_type": "code",
   "execution_count": null,
   "metadata": {},
   "outputs": [],
   "source": [
    "val.groupby('SaleType').min()[['SalePrice']]['SalePrice'].sort_values()"
   ]
  },
  {
   "cell_type": "code",
   "execution_count": null,
   "metadata": {},
   "outputs": [],
   "source": [
    "set(test.SaleType.unique()) - set(train.SaleType.unique())"
   ]
  },
  {
   "cell_type": "code",
   "execution_count": null,
   "metadata": {},
   "outputs": [],
   "source": [
    "colx = 'Fence'\n",
    "# print(train.groupby(colx).count()[['Id']]/1460)\n",
    "fig, ax = plt.subplots(figsize=(15,6))\n",
    "sns.boxplot(x=colx, y=\"SalePrice\", ax=ax, data=train);"
   ]
  },
  {
   "cell_type": "code",
   "execution_count": null,
   "metadata": {},
   "outputs": [],
   "source": [
    "set(val.select_dtypes(include=['object']).columns) - set(train.select_dtypes(include=['object']).columns )"
   ]
  },
  {
   "cell_type": "code",
   "execution_count": null,
   "metadata": {},
   "outputs": [],
   "source": [
    "train.select_dtypes(exclude=['object']).columns"
   ]
  },
  {
   "cell_type": "code",
   "execution_count": null,
   "metadata": {
    "collapsed": true
   },
   "outputs": [],
   "source": [
    "from numpy import mean, std\n",
    "\n",
    "def grouping(col, data, m):\n",
    "    unique = data[col].unique()\n",
    "    pairs = dict()\n",
    "    for thing in unique:\n",
    "        means = mean(train[train[col] == thing]['SalePrice'])\n",
    "        stds = std(train[train[col] == thing]['SalePrice'])\n",
    "        pairs.update({thing: (means, stds)})\n",
    "    grouping = dict()\n",
    "    for key1 in pairs.keys():\n",
    "        for key2 in pairs.keys():\n",
    "            if pairs[key1][0] < pairs[key2][0] + m and pairs[key1][0] > pairs[key2][0] - m and key1 != key2:\n",
    "                data[col] = data[col].replace(to_replace = [key1], value = [key2])\n",
    "                grouping.update({key1: key2})\n",
    "        \n",
    "    return grouping"
   ]
  },
  {
   "cell_type": "code",
   "execution_count": null,
   "metadata": {
    "collapsed": true
   },
   "outputs": [],
   "source": [
    "def assign_grouping(col, data, group):\n",
    "    for x in data[col]:\n",
    "        for key, value in group.items():\n",
    "            if x in value:\n",
    "                data[col] = data[col].replace(to_replace = [x], value = [key])"
   ]
  },
  {
   "cell_type": "code",
   "execution_count": null,
   "metadata": {},
   "outputs": [],
   "source": [
    "plt.scatter(train['MasVnrArea'], train['SalePrice'])"
   ]
  },
  {
   "cell_type": "code",
   "execution_count": null,
   "metadata": {},
   "outputs": [],
   "source": [
    "#missing data\n",
    "total = train[train.select_dtypes(include=['object']).columns].isnull().sum().sort_values(ascending=False)\n",
    "percent = (train[train.select_dtypes(include=['object']).columns].isnull().sum()/train[train.select_dtypes(include=['object']).columns].isnull().count()).sort_values(ascending=False)\n",
    "missing_data = pd.concat([total, percent], axis=1, keys=['Total', 'Ratio'])\n",
    "missing_data.head(20)"
   ]
  },
  {
   "cell_type": "code",
   "execution_count": null,
   "metadata": {},
   "outputs": [],
   "source": [
    "#correlation matrix\n",
    "corrmat = train[train.select_dtypes(exclude=['object']).columns].corr()\n",
    "f, ax = plt.subplots(figsize=(15, 15))\n",
    "sns.heatmap(corrmat, square=True, cmap=\"YlGnBu\", linewidths=.5, annot=False);"
   ]
  },
  {
   "cell_type": "code",
   "execution_count": null,
   "metadata": {
    "collapsed": true
   },
   "outputs": [],
   "source": []
  }
 ],
 "metadata": {
  "kernelspec": {
   "display_name": "Python 3",
   "language": "python",
   "name": "python3"
  },
  "language_info": {
   "codemirror_mode": {
    "name": "ipython",
    "version": 3
   },
   "file_extension": ".py",
   "mimetype": "text/x-python",
   "name": "python",
   "nbconvert_exporter": "python",
   "pygments_lexer": "ipython3",
   "version": "3.6.2"
  }
 },
 "nbformat": 4,
 "nbformat_minor": 2
}
