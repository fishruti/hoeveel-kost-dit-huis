{
 "cells": [
  {
   "cell_type": "code",
   "execution_count": 1,
   "metadata": {},
   "outputs": [],
   "source": [
    "%matplotlib inline\n",
    "import numpy as np # linear algebra\n",
    "import pandas as pd # data processing, CSV file I/O (e.g. pd.read_csv)\n",
    "import matplotlib.pyplot as plt\n",
    "import seaborn as sns\n",
    "from scipy.stats import mode\n",
    "from preprocessing import *"
   ]
  },
  {
   "cell_type": "code",
   "execution_count": null,
   "metadata": {
    "collapsed": true
   },
   "outputs": [],
   "source": [
    "def rmse(y_pred, y):\n",
    "    return np.sqrt(np.mean(np.square(y_pred-y)))\n",
    "def rmsle(y_pred, y):\n",
    "    return np.sqrt(np.mean(np.square(np.log(y_pred+1) - np.log(y+1))))\n",
    "\n",
    "def fill_missing(colx, value):\n",
    "    train.loc[:, colx] = train.loc[:, colx].fillna(value)\n",
    "    test.loc[:, colx] = test.loc[:, colx].fillna(value)\n",
    "    test.loc[:, colx] = val.loc[:, colx].fillna(value)"
   ]
  },
  {
   "cell_type": "code",
   "execution_count": 2,
   "metadata": {
    "collapsed": true
   },
   "outputs": [],
   "source": [
    "data = pd.read_csv('train.csv')\n",
    "test = pd.read_csv('test.csv')\n",
    "train=data.sample(frac=0.8,random_state=200)\n",
    "val=data.drop(train.index)\n"
   ]
  },
  {
   "cell_type": "code",
   "execution_count": 3,
   "metadata": {},
   "outputs": [
    {
     "ename": "TypeError",
     "evalue": "Cannot compare types 'ndarray(dtype=int64)' and 'str'",
     "output_type": "error",
     "traceback": [
      "\u001b[0;31m---------------------------------------------------------------------------\u001b[0m",
      "\u001b[0;31mTypeError\u001b[0m                                 Traceback (most recent call last)",
      "\u001b[0;32m<ipython-input-3-5857a6f802d3>\u001b[0m in \u001b[0;36m<module>\u001b[0;34m()\u001b[0m\n\u001b[1;32m      1\u001b[0m \u001b[0mtrain\u001b[0m \u001b[0;34m=\u001b[0m \u001b[0mpre_process\u001b[0m\u001b[0;34m(\u001b[0m\u001b[0mtrain\u001b[0m\u001b[0;34m,\u001b[0m \u001b[0mval\u001b[0m\u001b[0;34m,\u001b[0m \u001b[0mtest\u001b[0m\u001b[0;34m)\u001b[0m\u001b[0;34m\u001b[0m\u001b[0m\n\u001b[0;32m----> 2\u001b[0;31m \u001b[0mtrain\u001b[0m\u001b[0;34m,\u001b[0m \u001b[0mval\u001b[0m\u001b[0;34m,\u001b[0m \u001b[0mtest\u001b[0m\u001b[0;34m=\u001b[0m \u001b[0mgroup\u001b[0m\u001b[0;34m(\u001b[0m\u001b[0mtrain\u001b[0m\u001b[0;34m,\u001b[0m \u001b[0mval\u001b[0m\u001b[0;34m,\u001b[0m \u001b[0mtest\u001b[0m\u001b[0;34m)\u001b[0m\u001b[0;34m\u001b[0m\u001b[0m\n\u001b[0m",
      "\u001b[0;32m~/Documents/MachineLearning/House prices Kaggle/hoeveel-kost-dit-huis/preprocessing.py\u001b[0m in \u001b[0;36mgroup\u001b[0;34m(train, val, test)\u001b[0m\n\u001b[1;32m    109\u001b[0m     \u001b[0mtest\u001b[0m\u001b[0;34m[\u001b[0m\u001b[0;34m'Neighborhood'\u001b[0m\u001b[0;34m]\u001b[0m \u001b[0;34m=\u001b[0m \u001b[0massign_grouping\u001b[0m\u001b[0;34m(\u001b[0m\u001b[0;34m'Neighborhood'\u001b[0m\u001b[0;34m,\u001b[0m \u001b[0mtest\u001b[0m\u001b[0;34m,\u001b[0m \u001b[0mgroups\u001b[0m\u001b[0;34m)\u001b[0m\u001b[0;34m\u001b[0m\u001b[0m\n\u001b[1;32m    110\u001b[0m \u001b[0;34m\u001b[0m\u001b[0m\n\u001b[0;32m--> 111\u001b[0;31m     \u001b[0mgroups\u001b[0m \u001b[0;34m=\u001b[0m \u001b[0mgrouping\u001b[0m\u001b[0;34m(\u001b[0m\u001b[0;34m'Functional'\u001b[0m\u001b[0;34m,\u001b[0m \u001b[0mtrain\u001b[0m\u001b[0;34m,\u001b[0m \u001b[0;36m30000\u001b[0m\u001b[0;34m)\u001b[0m\u001b[0;34m\u001b[0m\u001b[0m\n\u001b[0m\u001b[1;32m    112\u001b[0m     \u001b[0massign_grouping\u001b[0m\u001b[0;34m(\u001b[0m\u001b[0;34m'Functional'\u001b[0m\u001b[0;34m,\u001b[0m \u001b[0mval\u001b[0m\u001b[0;34m,\u001b[0m \u001b[0mgroups\u001b[0m\u001b[0;34m)\u001b[0m\u001b[0;34m\u001b[0m\u001b[0m\n\u001b[1;32m    113\u001b[0m     \u001b[0massign_grouping\u001b[0m\u001b[0;34m(\u001b[0m\u001b[0;34m'Functional'\u001b[0m\u001b[0;34m,\u001b[0m \u001b[0mtest\u001b[0m\u001b[0;34m,\u001b[0m \u001b[0mgroups\u001b[0m\u001b[0;34m)\u001b[0m\u001b[0;34m\u001b[0m\u001b[0m\n",
      "\u001b[0;32m~/Documents/MachineLearning/House prices Kaggle/hoeveel-kost-dit-huis/grouping_features.py\u001b[0m in \u001b[0;36mgrouping\u001b[0;34m(col, data, m)\u001b[0m\n\u001b[1;32m     18\u001b[0m         \u001b[0;32mfor\u001b[0m \u001b[0mkey2\u001b[0m \u001b[0;32min\u001b[0m \u001b[0mpairs\u001b[0m\u001b[0;34m.\u001b[0m\u001b[0mkeys\u001b[0m\u001b[0;34m(\u001b[0m\u001b[0;34m)\u001b[0m\u001b[0;34m:\u001b[0m\u001b[0;34m\u001b[0m\u001b[0m\n\u001b[1;32m     19\u001b[0m             \u001b[0;32mif\u001b[0m \u001b[0mpairs\u001b[0m\u001b[0;34m[\u001b[0m\u001b[0mkey1\u001b[0m\u001b[0;34m]\u001b[0m\u001b[0;34m[\u001b[0m\u001b[0;36m0\u001b[0m\u001b[0;34m]\u001b[0m \u001b[0;34m<\u001b[0m \u001b[0mpairs\u001b[0m\u001b[0;34m[\u001b[0m\u001b[0mkey2\u001b[0m\u001b[0;34m]\u001b[0m\u001b[0;34m[\u001b[0m\u001b[0;36m0\u001b[0m\u001b[0;34m]\u001b[0m \u001b[0;34m+\u001b[0m \u001b[0mm\u001b[0m \u001b[0;32mand\u001b[0m \u001b[0mpairs\u001b[0m\u001b[0;34m[\u001b[0m\u001b[0mkey1\u001b[0m\u001b[0;34m]\u001b[0m\u001b[0;34m[\u001b[0m\u001b[0;36m0\u001b[0m\u001b[0;34m]\u001b[0m \u001b[0;34m>\u001b[0m \u001b[0mpairs\u001b[0m\u001b[0;34m[\u001b[0m\u001b[0mkey2\u001b[0m\u001b[0;34m]\u001b[0m\u001b[0;34m[\u001b[0m\u001b[0;36m0\u001b[0m\u001b[0;34m]\u001b[0m \u001b[0;34m-\u001b[0m \u001b[0mm\u001b[0m \u001b[0;32mand\u001b[0m \u001b[0mkey1\u001b[0m \u001b[0;34m!=\u001b[0m \u001b[0mkey2\u001b[0m\u001b[0;34m:\u001b[0m\u001b[0;34m\u001b[0m\u001b[0m\n\u001b[0;32m---> 20\u001b[0;31m                 \u001b[0mdata\u001b[0m\u001b[0;34m[\u001b[0m\u001b[0mcol\u001b[0m\u001b[0;34m]\u001b[0m \u001b[0;34m=\u001b[0m \u001b[0mdata\u001b[0m\u001b[0;34m[\u001b[0m\u001b[0mcol\u001b[0m\u001b[0;34m]\u001b[0m\u001b[0;34m.\u001b[0m\u001b[0mreplace\u001b[0m\u001b[0;34m(\u001b[0m\u001b[0mto_replace\u001b[0m \u001b[0;34m=\u001b[0m \u001b[0;34m[\u001b[0m\u001b[0mkey1\u001b[0m\u001b[0;34m]\u001b[0m\u001b[0;34m,\u001b[0m \u001b[0mvalue\u001b[0m \u001b[0;34m=\u001b[0m \u001b[0;34m[\u001b[0m\u001b[0mkey2\u001b[0m\u001b[0;34m]\u001b[0m\u001b[0;34m)\u001b[0m\u001b[0;34m\u001b[0m\u001b[0m\n\u001b[0m\u001b[1;32m     21\u001b[0m                 \u001b[0mgrouping\u001b[0m\u001b[0;34m.\u001b[0m\u001b[0mupdate\u001b[0m\u001b[0;34m(\u001b[0m\u001b[0;34m{\u001b[0m\u001b[0mkey1\u001b[0m\u001b[0;34m:\u001b[0m \u001b[0mkey2\u001b[0m\u001b[0;34m}\u001b[0m\u001b[0;34m)\u001b[0m\u001b[0;34m\u001b[0m\u001b[0m\n\u001b[1;32m     22\u001b[0m \u001b[0;34m\u001b[0m\u001b[0m\n",
      "\u001b[0;32m/usr/local/lib/python3.6/site-packages/pandas/core/generic.py\u001b[0m in \u001b[0;36mreplace\u001b[0;34m(self, to_replace, value, inplace, limit, regex, method, axis)\u001b[0m\n\u001b[1;32m   3883\u001b[0m                                                        \u001b[0mdest_list\u001b[0m\u001b[0;34m=\u001b[0m\u001b[0mvalue\u001b[0m\u001b[0;34m,\u001b[0m\u001b[0;34m\u001b[0m\u001b[0m\n\u001b[1;32m   3884\u001b[0m                                                        \u001b[0minplace\u001b[0m\u001b[0;34m=\u001b[0m\u001b[0minplace\u001b[0m\u001b[0;34m,\u001b[0m\u001b[0;34m\u001b[0m\u001b[0m\n\u001b[0;32m-> 3885\u001b[0;31m                                                        regex=regex)\n\u001b[0m\u001b[1;32m   3886\u001b[0m \u001b[0;34m\u001b[0m\u001b[0m\n\u001b[1;32m   3887\u001b[0m                 \u001b[0;32melse\u001b[0m\u001b[0;34m:\u001b[0m  \u001b[0;31m# [NA, ''] -> 0\u001b[0m\u001b[0;34m\u001b[0m\u001b[0m\n",
      "\u001b[0;32m/usr/local/lib/python3.6/site-packages/pandas/core/internals.py\u001b[0m in \u001b[0;36mreplace_list\u001b[0;34m(self, src_list, dest_list, inplace, regex, mgr)\u001b[0m\n\u001b[1;32m   3257\u001b[0m             \u001b[0;32mreturn\u001b[0m \u001b[0mblock\u001b[0m\u001b[0;34m,\u001b[0m \u001b[0mval\u001b[0m\u001b[0;34m\u001b[0m\u001b[0m\n\u001b[1;32m   3258\u001b[0m \u001b[0;34m\u001b[0m\u001b[0m\n\u001b[0;32m-> 3259\u001b[0;31m         \u001b[0mmasks\u001b[0m \u001b[0;34m=\u001b[0m \u001b[0;34m[\u001b[0m\u001b[0mcomp\u001b[0m\u001b[0;34m(\u001b[0m\u001b[0ms\u001b[0m\u001b[0;34m)\u001b[0m \u001b[0;32mfor\u001b[0m \u001b[0mi\u001b[0m\u001b[0;34m,\u001b[0m \u001b[0ms\u001b[0m \u001b[0;32min\u001b[0m \u001b[0menumerate\u001b[0m\u001b[0;34m(\u001b[0m\u001b[0msrc_list\u001b[0m\u001b[0;34m)\u001b[0m\u001b[0;34m]\u001b[0m\u001b[0;34m\u001b[0m\u001b[0m\n\u001b[0m\u001b[1;32m   3260\u001b[0m \u001b[0;34m\u001b[0m\u001b[0m\n\u001b[1;32m   3261\u001b[0m         \u001b[0mresult_blocks\u001b[0m \u001b[0;34m=\u001b[0m \u001b[0;34m[\u001b[0m\u001b[0;34m]\u001b[0m\u001b[0;34m\u001b[0m\u001b[0m\n",
      "\u001b[0;32m/usr/local/lib/python3.6/site-packages/pandas/core/internals.py\u001b[0m in \u001b[0;36m<listcomp>\u001b[0;34m(.0)\u001b[0m\n\u001b[1;32m   3257\u001b[0m             \u001b[0;32mreturn\u001b[0m \u001b[0mblock\u001b[0m\u001b[0;34m,\u001b[0m \u001b[0mval\u001b[0m\u001b[0;34m\u001b[0m\u001b[0m\n\u001b[1;32m   3258\u001b[0m \u001b[0;34m\u001b[0m\u001b[0m\n\u001b[0;32m-> 3259\u001b[0;31m         \u001b[0mmasks\u001b[0m \u001b[0;34m=\u001b[0m \u001b[0;34m[\u001b[0m\u001b[0mcomp\u001b[0m\u001b[0;34m(\u001b[0m\u001b[0ms\u001b[0m\u001b[0;34m)\u001b[0m \u001b[0;32mfor\u001b[0m \u001b[0mi\u001b[0m\u001b[0;34m,\u001b[0m \u001b[0ms\u001b[0m \u001b[0;32min\u001b[0m \u001b[0menumerate\u001b[0m\u001b[0;34m(\u001b[0m\u001b[0msrc_list\u001b[0m\u001b[0;34m)\u001b[0m\u001b[0;34m]\u001b[0m\u001b[0;34m\u001b[0m\u001b[0m\n\u001b[0m\u001b[1;32m   3260\u001b[0m \u001b[0;34m\u001b[0m\u001b[0m\n\u001b[1;32m   3261\u001b[0m         \u001b[0mresult_blocks\u001b[0m \u001b[0;34m=\u001b[0m \u001b[0;34m[\u001b[0m\u001b[0;34m]\u001b[0m\u001b[0;34m\u001b[0m\u001b[0m\n",
      "\u001b[0;32m/usr/local/lib/python3.6/site-packages/pandas/core/internals.py\u001b[0m in \u001b[0;36mcomp\u001b[0;34m(s)\u001b[0m\n\u001b[1;32m   3245\u001b[0m             \u001b[0;32mif\u001b[0m \u001b[0misnull\u001b[0m\u001b[0;34m(\u001b[0m\u001b[0ms\u001b[0m\u001b[0;34m)\u001b[0m\u001b[0;34m:\u001b[0m\u001b[0;34m\u001b[0m\u001b[0m\n\u001b[1;32m   3246\u001b[0m                 \u001b[0;32mreturn\u001b[0m \u001b[0misnull\u001b[0m\u001b[0;34m(\u001b[0m\u001b[0mvalues\u001b[0m\u001b[0;34m)\u001b[0m\u001b[0;34m\u001b[0m\u001b[0m\n\u001b[0;32m-> 3247\u001b[0;31m             \u001b[0;32mreturn\u001b[0m \u001b[0m_maybe_compare\u001b[0m\u001b[0;34m(\u001b[0m\u001b[0mvalues\u001b[0m\u001b[0;34m,\u001b[0m \u001b[0mgetattr\u001b[0m\u001b[0;34m(\u001b[0m\u001b[0ms\u001b[0m\u001b[0;34m,\u001b[0m \u001b[0;34m'asm8'\u001b[0m\u001b[0;34m,\u001b[0m \u001b[0ms\u001b[0m\u001b[0;34m)\u001b[0m\u001b[0;34m,\u001b[0m \u001b[0moperator\u001b[0m\u001b[0;34m.\u001b[0m\u001b[0meq\u001b[0m\u001b[0;34m)\u001b[0m\u001b[0;34m\u001b[0m\u001b[0m\n\u001b[0m\u001b[1;32m   3248\u001b[0m \u001b[0;34m\u001b[0m\u001b[0m\n\u001b[1;32m   3249\u001b[0m         \u001b[0;32mdef\u001b[0m \u001b[0m_cast_scalar\u001b[0m\u001b[0;34m(\u001b[0m\u001b[0mblock\u001b[0m\u001b[0;34m,\u001b[0m \u001b[0mscalar\u001b[0m\u001b[0;34m)\u001b[0m\u001b[0;34m:\u001b[0m\u001b[0;34m\u001b[0m\u001b[0m\n",
      "\u001b[0;32m/usr/local/lib/python3.6/site-packages/pandas/core/internals.py\u001b[0m in \u001b[0;36m_maybe_compare\u001b[0;34m(a, b, op)\u001b[0m\n\u001b[1;32m   4617\u001b[0m             \u001b[0mtype_names\u001b[0m\u001b[0;34m[\u001b[0m\u001b[0;36m1\u001b[0m\u001b[0;34m]\u001b[0m \u001b[0;34m=\u001b[0m \u001b[0;34m'ndarray(dtype=%s)'\u001b[0m \u001b[0;34m%\u001b[0m \u001b[0mb\u001b[0m\u001b[0;34m.\u001b[0m\u001b[0mdtype\u001b[0m\u001b[0;34m\u001b[0m\u001b[0m\n\u001b[1;32m   4618\u001b[0m \u001b[0;34m\u001b[0m\u001b[0m\n\u001b[0;32m-> 4619\u001b[0;31m         \u001b[0;32mraise\u001b[0m \u001b[0mTypeError\u001b[0m\u001b[0;34m(\u001b[0m\u001b[0;34m\"Cannot compare types %r and %r\"\u001b[0m \u001b[0;34m%\u001b[0m \u001b[0mtuple\u001b[0m\u001b[0;34m(\u001b[0m\u001b[0mtype_names\u001b[0m\u001b[0;34m)\u001b[0m\u001b[0;34m)\u001b[0m\u001b[0;34m\u001b[0m\u001b[0m\n\u001b[0m\u001b[1;32m   4620\u001b[0m     \u001b[0;32mreturn\u001b[0m \u001b[0mresult\u001b[0m\u001b[0;34m\u001b[0m\u001b[0m\n\u001b[1;32m   4621\u001b[0m \u001b[0;34m\u001b[0m\u001b[0m\n",
      "\u001b[0;31mTypeError\u001b[0m: Cannot compare types 'ndarray(dtype=int64)' and 'str'"
     ]
    }
   ],
   "source": [
    "train = pre_process(train, val, test)\n",
    "train, val, test= group(train, val, test)"
   ]
  },
  {
   "cell_type": "code",
   "execution_count": null,
   "metadata": {},
   "outputs": [],
   "source": [
    "## Remove the repetitive features because they can cause problems in the fitting of gradient descent\n",
    "data = pd.read_csv('train.csv')\n",
    "test = pd.read_csv('test.csv')\n",
    "train=data.sample(frac=0.8,random_state=200)\n",
    "val=data.drop(train.index)\n",
    "\n",
    "train = train.drop(['GarageArea', 'GarageYrBlt', 'TotalBsmtSF', 'TotRmsAbvGrd'], axis = 1)\n",
    "\n",
    "#Create new features, more logical features.\n",
    "train['Age'] = max(train['YearBuilt']) - train['YearBuilt']\n",
    "train['AgeMod'] = max(train['YearRemodAdd']) - train['YearRemodAdd']\n",
    "train['BsmtFinSF'] = train['BsmtFinSF1'] + train['BsmtFinSF2']\n",
    "train['TotArea'] = train['BsmtFinSF'] + train['BsmtUnfSF'] + train['1stFlrSF'] + train['2ndFlrSF'] + train['GrLivArea']\n",
    "\n",
    "# Manually fit the order of some features to make a straight line with the target value\n",
    "train['Age'] = train['Age']**0.5\n",
    "train['AgeMod']  = train['AgeMod']**0.5\n",
    "\n",
    "\n",
    "\n",
    "train = train.drop(['YearRemodAdd', 'YearBuilt'], axis = 1)\n",
    "\n",
    "train = train.drop(['BsmtFinSF1', 'BsmtFinSF2', 'MoSold', 'YrSold', 'MiscVal'], axis=1)\n",
    "\n",
    "# drop irrelevant categorical features\n",
    "\n",
    "fill_missing('LotFrontage', mode(train['LotFrontage'])[0][0])\n",
    "fill_missing('MasVnrArea', mode(train['MasVnrArea'])[0][0])\n",
    "\n",
    "train['PoolQC'] = train['PoolQC'].replace(to_replace = ['Ex', 'Fa', 'Gd'], value = [2,3,1])\n",
    "train['PoolQC'] = train['PoolQC'].fillna(0)\n",
    "train = train.drop(['PoolQC'], axis = 1)\n",
    "\n",
    "\n",
    "train['MiscFeature'] = train['MiscFeature'].fillna('Na')\n",
    "\n",
    "train['Alley'] = train['Alley'].fillna('Na')\n",
    "\n",
    "train['Fence'] = train['Fence'].fillna('Na')\n",
    "\n",
    "train['FireplaceQu'] = train['FireplaceQu'].fillna('Na')\n",
    "\n",
    "train['FireplaceQu'] = train['FireplaceQu'].replace(to_replace = ['Ex', 'Gd', 'TA','Fa', 'Po', 'Na' ], value = [5,4,3,2,1,0])\n",
    "\n",
    "train['GarageCond'] = train['GarageCond'].fillna('Na')\n",
    "\n",
    "train['GarageFinish'] = train['GarageFinish'].fillna('Na')\n",
    "\n",
    "for col in ['GarageQual', 'GarageCond']:\n",
    "    train[col] = train[col].replace(to_replace = ['Ex', 'Gd', 'TA','Fa', 'Po', 'Na' ], value = [5,4,3,2,1,0])\n",
    "\n",
    "train['GarageFinish'] = train['GarageFinish'].replace(to_replace = ['Na', 'Unf', 'RFn', 'Fin'], value = [0,1,2,3])\n",
    "\n",
    "train['GarageType'] = train['GarageType'].fillna('Na')\n",
    "\n",
    "train['BsmtExposure'] = train['BsmtExposure'].fillna('Na')\n",
    "\n",
    "train['BsmtExposure'] = train['BsmtExposure'].replace(to_replace = ['Na', 'No', 'Mn', 'Av', 'Gd'], value = [0,1,2,3,4])\n",
    "\n",
    "train['BsmtFinType2'] = train['BsmtFinType2'].fillna('Na')\n",
    "\n",
    "train['BsmtFinType2'] = train['BsmtFinType2'].replace(to_replace= ['ALQ', 'GLQ', 'BLQ', 'LwQ', 'Rec', 'Unf', 'Na'], value = [1,1,1,1,1,1,0])\n",
    "\n",
    "train['BsmtFinType1'] = train['BsmtFinType1'].fillna('Na')\n",
    "\n",
    "train['BsmtQual'] = train['BsmtQual'].fillna('Na')\n",
    "train['BsmtCond'] = train['BsmtCond'].fillna('Na')\n",
    "\n",
    "for col in ['BsmtQual', 'BsmtCond']:\n",
    "    train[col] = train[col].replace(to_replace = ['Ex', 'Gd', 'TA','Fa', 'Po', 'Na' ], value = [5,4,3,2,1,0])\n",
    "\n",
    "train['MasVnrType'] = train['MasVnrType'].fillna('Na')\n",
    "\n",
    "train = train.fillna(train['Electrical'].value_counts().index[0])\n",
    "\n",
    "groups = grouping('Neighborhood', train, 10000)\n",
    "val['Neighborhood']  = assign_grouping('Neighborhood', val, groups)\n",
    "test['Neighborhood'] = assign_grouping('Neighborhood', test, groups)\n",
    "\n",
    "train = train.drop(['Condition2'],axis=1)\n",
    "\n",
    "train = train.drop(['RoofMatl'],axis=1)\n",
    "\n",
    "train = train.drop(['BldgType'],axis=1)\n",
    "\n",
    "train = train.drop(['LotShape', 'Utilities', 'Exterior1st', 'Exterior2nd'],axis=1)\n",
    "\n",
    "test['Functional'] = test['Functional'].fillna('Na')\n",
    "groups = grouping('Functional', train, 30000)\n",
    "assign_grouping('Functional', val, groups)\n",
    "assign_grouping('Functional', test, groups)\n",
    "\n",
    "groups = grouping('PavedDrive', train, 30000)\n",
    "assign_grouping('PavedDrive', val, groups)\n",
    "assign_grouping('PavedDrive', test, groups)\n",
    "\n",
    "val['Fence'] = val['Fence'].fillna('Na')\n",
    "test['Fence'] = test['Fence'].fillna('Na')\n",
    "groups = grouping('Fence', train, 10000)\n",
    "assign_grouping('Fence', val, groups)\n",
    "assign_grouping('Fence', test, groups)\n",
    "\n",
    "test['SaleType'] = test['SaleType'].fillna('Na')\n",
    "groups = grouping('SaleType', train, 10000)\n",
    "assign_grouping('SaleType', val, groups)\n",
    "assign_grouping('SaleType', test, groups)\n",
    "\n",
    "groups = grouping('SaleCondition', train, 20000)\n",
    "assign_grouping('SaleCondition', val, groups)\n",
    "assign_grouping('SaleCondition', test, groups)\n",
    "\n",
    "train['HeatingQC'] = train['HeatingQC'].replace(to_replace = ['Ex', 'Gd', 'TA','Fa', 'Po', 'Na' ], value = [5,4,3,2,1,0])\n",
    "\n",
    "train['KitchenQual'] = train['KitchenQual'].replace(to_replace = ['Ex', 'Gd', 'TA','Fa', 'Po', 'Na' ], value = [5,4,3,2,1,0])\n",
    "\n",
    "train['Functional'] = train['Functional'].replace(to_replace = ['Typ', 'Min2', 'Mod','Maj1', 'Maj2' ], value = [5,4,3,2,1])\n",
    "\n",
    "train = pd.get_dummies(train)"
   ]
  },
  {
   "cell_type": "code",
   "execution_count": null,
   "metadata": {
    "collapsed": true
   },
   "outputs": [],
   "source": [
    "val = pd.get_dummies(val)\n",
    "test=pd.get_dummies(test)"
   ]
  },
  {
   "cell_type": "code",
   "execution_count": null,
   "metadata": {},
   "outputs": [],
   "source": [
    "set(list(train)) - set(list(val))"
   ]
  },
  {
   "cell_type": "code",
   "execution_count": null,
   "metadata": {},
   "outputs": [],
   "source": [
    "colx = 'Functional'\n",
    "# print(train.groupby(colx).count()[['Id']]/1460)\n",
    "fig, ax = plt.subplots(figsize=(15,6))\n",
    "sns.boxplot(x=colx, y=\"SalePrice\", ax=ax, data=train);"
   ]
  },
  {
   "cell_type": "code",
   "execution_count": null,
   "metadata": {},
   "outputs": [],
   "source": [
    "val['Fence'].unique()"
   ]
  },
  {
   "cell_type": "code",
   "execution_count": null,
   "metadata": {},
   "outputs": [],
   "source": [
    "val['Fence'] = val['Fence'].fillna('Na')"
   ]
  },
  {
   "cell_type": "code",
   "execution_count": null,
   "metadata": {},
   "outputs": [],
   "source": [
    "import numpy\n",
    "test['Functional'] = test['Functional'].replace(to_replace = [numpy.nan], value = ['Na'])"
   ]
  },
  {
   "cell_type": "code",
   "execution_count": null,
   "metadata": {},
   "outputs": [],
   "source": [
    "train.select_dtypes(include=['object']).columns"
   ]
  },
  {
   "cell_type": "code",
   "execution_count": null,
   "metadata": {},
   "outputs": [],
   "source": [
    "train.select_dtypes(exclude=['object']).columns"
   ]
  },
  {
   "cell_type": "code",
   "execution_count": null,
   "metadata": {
    "collapsed": true
   },
   "outputs": [],
   "source": [
    "from numpy import mean, std\n",
    "\n",
    "def grouping(col, data, m):\n",
    "    unique = data[col].unique()\n",
    "    pairs = dict()\n",
    "    for thing in unique:\n",
    "        means = mean(train[train[col] == thing]['SalePrice'])\n",
    "        stds = std(train[train[col] == thing]['SalePrice'])\n",
    "        pairs.update({thing: (means, stds)})\n",
    "    grouping = dict()\n",
    "    for key1 in pairs.keys():\n",
    "        for key2 in pairs.keys():\n",
    "            if pairs[key1][0] < pairs[key2][0] + m and pairs[key1][0] > pairs[key2][0] - m and key1 != key2:\n",
    "                data[col] = data[col].replace(to_replace = [key1], value = [key2])\n",
    "                grouping.update({key1: key2})\n",
    "        \n",
    "    return grouping"
   ]
  },
  {
   "cell_type": "code",
   "execution_count": null,
   "metadata": {
    "collapsed": true
   },
   "outputs": [],
   "source": [
    "def assign_grouping(col, data, group):\n",
    "    for x in data[col]:\n",
    "        for key, value in group.items():\n",
    "            if x in value:\n",
    "                data[col] = data[col].replace(to_replace = [x], value = [key])"
   ]
  },
  {
   "cell_type": "code",
   "execution_count": null,
   "metadata": {},
   "outputs": [],
   "source": [
    "plt.scatter(train['MasVnrArea'], train['SalePrice'])"
   ]
  },
  {
   "cell_type": "code",
   "execution_count": null,
   "metadata": {},
   "outputs": [],
   "source": [
    "#missing data\n",
    "total = train[train.select_dtypes(include=['object']).columns].isnull().sum().sort_values(ascending=False)\n",
    "percent = (train[train.select_dtypes(include=['object']).columns].isnull().sum()/train[train.select_dtypes(include=['object']).columns].isnull().count()).sort_values(ascending=False)\n",
    "missing_data = pd.concat([total, percent], axis=1, keys=['Total', 'Ratio'])\n",
    "missing_data.head(20)"
   ]
  },
  {
   "cell_type": "code",
   "execution_count": null,
   "metadata": {},
   "outputs": [],
   "source": [
    "#correlation matrix\n",
    "corrmat = train[train.select_dtypes(exclude=['object']).columns].corr()\n",
    "f, ax = plt.subplots(figsize=(15, 15))\n",
    "sns.heatmap(corrmat, square=True, cmap=\"YlGnBu\", linewidths=.5, annot=False);"
   ]
  },
  {
   "cell_type": "code",
   "execution_count": null,
   "metadata": {
    "collapsed": true
   },
   "outputs": [],
   "source": []
  }
 ],
 "metadata": {
  "kernelspec": {
   "display_name": "Python 3",
   "language": "python",
   "name": "python3"
  },
  "language_info": {
   "codemirror_mode": {
    "name": "ipython",
    "version": 3
   },
   "file_extension": ".py",
   "mimetype": "text/x-python",
   "name": "python",
   "nbconvert_exporter": "python",
   "pygments_lexer": "ipython3",
   "version": "3.6.2"
  }
 },
 "nbformat": 4,
 "nbformat_minor": 2
}
