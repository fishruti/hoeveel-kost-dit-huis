{
 "cells": [
  {
   "cell_type": "code",
   "execution_count": 70,
   "metadata": {
    "collapsed": true
   },
   "outputs": [],
   "source": [
    "%matplotlib inline\n",
    "import numpy as np # linear algebra\n",
    "import pandas as pd # data processing, CSV file I/O (e.g. pd.read_csv)\n",
    "import matplotlib.pyplot as plt\n",
    "import seaborn as sns\n",
    "from scipy.stats import mode"
   ]
  },
  {
   "cell_type": "code",
   "execution_count": 15,
   "metadata": {
    "collapsed": true
   },
   "outputs": [],
   "source": [
    "data = pd.read_csv('train.csv')\n",
    "test = pd.read_csv('test.csv')"
   ]
  },
  {
   "cell_type": "code",
   "execution_count": 16,
   "metadata": {
    "collapsed": true
   },
   "outputs": [],
   "source": [
    "train=data.sample(frac=0.8,random_state=200)\n",
    "val=data.drop(train.index)"
   ]
  },
  {
   "cell_type": "code",
   "execution_count": 19,
   "metadata": {},
   "outputs": [],
   "source": [
    "## Remove the repetitive features because they can cause problems in the fitting of gradient descent\n",
    "train = train.drop(['GarageArea', 'GarageYrBlt', 'TotalBsmtSF', 'TotRmsAbvGrd'], axis = 1)"
   ]
  },
  {
   "cell_type": "code",
   "execution_count": 21,
   "metadata": {
    "collapsed": true
   },
   "outputs": [],
   "source": [
    "#Create new features, more logical features.\n",
    "train['Age'] = max(train['YearBuilt']) - train['YearBuilt']"
   ]
  },
  {
   "cell_type": "code",
   "execution_count": 26,
   "metadata": {
    "collapsed": true
   },
   "outputs": [],
   "source": [
    "train['BsmtFinSF'] = train['BsmtFinSF1'] + train['BsmtFinSF2']\n",
    "train['TotArea'] = train['BsmtFinSF'] + train['BsmtUnfSF'] + train['1stFlrSF'] + train['2ndFlrSF'] + train['GrLivArea']"
   ]
  },
  {
   "cell_type": "code",
   "execution_count": 42,
   "metadata": {
    "collapsed": true
   },
   "outputs": [],
   "source": [
    "# Manually fit the order of some features to make a straight line with the target value\n",
    "train['Age'] = train['Age']**0.5\n",
    "train['AgeMod']  = train['AgeMod']**0.5"
   ]
  },
  {
   "cell_type": "code",
   "execution_count": 22,
   "metadata": {},
   "outputs": [],
   "source": [
    "train['AgeMod'] = max(train['YearRemodAdd']) - train['YearRemodAdd']"
   ]
  },
  {
   "cell_type": "code",
   "execution_count": 24,
   "metadata": {
    "collapsed": true
   },
   "outputs": [],
   "source": [
    "train = train.drop(['YearRemodAdd', 'YearBuilt'], axis = 1)"
   ]
  },
  {
   "cell_type": "code",
   "execution_count": 31,
   "metadata": {},
   "outputs": [],
   "source": [
    "train = train.drop(['BsmtFinSF1', 'BsmtFinSF2', 'MoSold', 'YrSold', 'MiscVal'], axis=1)"
   ]
  },
  {
   "cell_type": "code",
   "execution_count": null,
   "metadata": {
    "collapsed": true
   },
   "outputs": [],
   "source": []
  },
  {
   "cell_type": "code",
   "execution_count": null,
   "metadata": {
    "collapsed": true
   },
   "outputs": [],
   "source": []
  },
  {
   "cell_type": "code",
   "execution_count": 165,
   "metadata": {},
   "outputs": [],
   "source": [
    "# drop irrelevant categorical features\n",
    "train = train.drop(['PoolQC'], axis = 1)"
   ]
  },
  {
   "cell_type": "code",
   "execution_count": 96,
   "metadata": {
    "collapsed": true
   },
   "outputs": [],
   "source": [
    "fill_missing('LotFrontage', mode(train['LotFrontage'])[0][0])\n",
    "fill_missing('MasVnrArea', mode(train['MasVnrArea'])[0][0])"
   ]
  },
  {
   "cell_type": "code",
   "execution_count": 117,
   "metadata": {},
   "outputs": [],
   "source": [
    "train['PoolQC'] = train['PoolQC'].replace(to_replace = ['Ex', 'Fa', 'Gd'], value = [2,3,1])\n",
    "train['PoolQC'] = train['PoolQC'].fillna(0)"
   ]
  },
  {
   "cell_type": "code",
   "execution_count": 121,
   "metadata": {
    "collapsed": true
   },
   "outputs": [],
   "source": [
    "train['MiscFeature'] = train['MiscFeature'].fillna('Na')"
   ]
  },
  {
   "cell_type": "code",
   "execution_count": 124,
   "metadata": {
    "collapsed": true
   },
   "outputs": [],
   "source": [
    "train['Alley'] = train['Alley'].fillna('Na')"
   ]
  },
  {
   "cell_type": "code",
   "execution_count": 127,
   "metadata": {
    "collapsed": true
   },
   "outputs": [],
   "source": [
    "train['Fence'] = train['Fence'].fillna('Na')"
   ]
  },
  {
   "cell_type": "code",
   "execution_count": 131,
   "metadata": {
    "collapsed": true
   },
   "outputs": [],
   "source": [
    "train['FireplaceQu'] = train['FireplaceQu'].fillna('Na')"
   ]
  },
  {
   "cell_type": "code",
   "execution_count": 137,
   "metadata": {
    "collapsed": true
   },
   "outputs": [],
   "source": [
    "train['FireplaceQu'] = train['FireplaceQu'].replace(to_replace = ['Ex', 'Gd', 'TA','Fa', 'Po', 'Na' ], value = [5,4,3,2,1,0])"
   ]
  },
  {
   "cell_type": "code",
   "execution_count": 143,
   "metadata": {
    "collapsed": true
   },
   "outputs": [],
   "source": [
    "train['GarageCond'] = train['GarageCond'].fillna('Na')"
   ]
  },
  {
   "cell_type": "code",
   "execution_count": 146,
   "metadata": {
    "collapsed": true
   },
   "outputs": [],
   "source": [
    "train['GarageFinish'] = train['GarageFinish'].fillna('Na')"
   ]
  },
  {
   "cell_type": "code",
   "execution_count": 152,
   "metadata": {},
   "outputs": [],
   "source": [
    "for col in ['GarageQual', 'GarageCond']:\n",
    "    train[col] = train[col].replace(to_replace = ['Ex', 'Gd', 'TA','Fa', 'Po', 'Na' ], value = [5,4,3,2,1,0])"
   ]
  },
  {
   "cell_type": "code",
   "execution_count": 148,
   "metadata": {
    "collapsed": true
   },
   "outputs": [],
   "source": [
    "train['GarageFinish'] = train['GarageFinish'].replace(to_replace = ['Na', 'Unf', 'RFn', 'Fin'], value = [0,1,2,3])"
   ]
  },
  {
   "cell_type": "code",
   "execution_count": 153,
   "metadata": {
    "collapsed": true
   },
   "outputs": [],
   "source": [
    "train['GarageType'] = train['GarageType'].fillna('Na')"
   ]
  },
  {
   "cell_type": "code",
   "execution_count": 156,
   "metadata": {
    "collapsed": true
   },
   "outputs": [],
   "source": [
    "train['BsmtExposure'] = train['BsmtExposure'].fillna('Na')"
   ]
  },
  {
   "cell_type": "code",
   "execution_count": 158,
   "metadata": {
    "collapsed": true
   },
   "outputs": [],
   "source": [
    "train['BsmtExposure'] = train['BsmtExposure'].replace(to_replace = ['Na', 'No', 'Mn', 'Av'], value = [0,1,2,3])"
   ]
  },
  {
   "cell_type": "code",
   "execution_count": 162,
   "metadata": {
    "collapsed": true
   },
   "outputs": [],
   "source": [
    "train['BsmtFinType2'] = train['BsmtFinType2'].fillna('Na')"
   ]
  },
  {
   "cell_type": "code",
   "execution_count": 166,
   "metadata": {
    "collapsed": true
   },
   "outputs": [],
   "source": [
    "train['BsmtFinType2'] = train['BsmtFinType2'].replace(to_replace= ['ALQ', 'GLQ', 'BLQ', 'LwQ', 'Rec', 'Unf', 'Na'], value = [1,1,1,1,1,1,0])"
   ]
  },
  {
   "cell_type": "code",
   "execution_count": 168,
   "metadata": {
    "collapsed": true
   },
   "outputs": [],
   "source": [
    "train['BsmtFinType1'] = train['BsmtFinType1'].fillna('Na')"
   ]
  },
  {
   "cell_type": "code",
   "execution_count": 173,
   "metadata": {
    "collapsed": true
   },
   "outputs": [],
   "source": [
    "train['BsmtQual'] = train['BsmtQual'].fillna('Na')\n",
    "train['BsmtCond'] = train['BsmtCond'].fillna('Na')"
   ]
  },
  {
   "cell_type": "code",
   "execution_count": 176,
   "metadata": {
    "collapsed": true
   },
   "outputs": [],
   "source": [
    "for col in ['BsmtQual', 'BsmtCond']:\n",
    "    train[col] = train[col].replace(to_replace = ['Ex', 'Gd', 'TA','Fa', 'Po', 'Na' ], value = [5,4,3,2,1,0])"
   ]
  },
  {
   "cell_type": "code",
   "execution_count": 179,
   "metadata": {
    "collapsed": true
   },
   "outputs": [],
   "source": [
    "train['MasVnrType'] = train['MasVnrType'].fillna('Na')"
   ]
  },
  {
   "cell_type": "code",
   "execution_count": 183,
   "metadata": {
    "collapsed": true
   },
   "outputs": [],
   "source": [
    "train = train.fillna(train['Electrical'].value_counts().index[0])"
   ]
  },
  {
   "cell_type": "code",
   "execution_count": 253,
   "metadata": {},
   "outputs": [],
   "source": [
    "grouping = grouping('Neighborhood', train, 10000)\n",
    "val['Neighborhood']  = assign_grouping('Neighborhood', val, grouping)\n",
    "test['Neighborhood'] = assign_grouping('Neighborhood', test, grouping)"
   ]
  },
  {
   "cell_type": "code",
   "execution_count": 240,
   "metadata": {
    "collapsed": true
   },
   "outputs": [],
   "source": [
    "train = train.drop(['Condition2'],axis=1)"
   ]
  },
  {
   "cell_type": "code",
   "execution_count": 258,
   "metadata": {
    "collapsed": true
   },
   "outputs": [],
   "source": [
    "train = train.drop(['RoofMatl'],axis=1)"
   ]
  },
  {
   "cell_type": "code",
   "execution_count": 261,
   "metadata": {
    "collapsed": true
   },
   "outputs": [],
   "source": [
    "train = train.drop(['BldgType'],axis=1)"
   ]
  },
  {
   "cell_type": "code",
   "execution_count": null,
   "metadata": {
    "collapsed": true
   },
   "outputs": [],
   "source": [
    "train = train.drop(['LotShape', 'Utilities'],axis=1)"
   ]
  },
  {
   "cell_type": "code",
   "execution_count": 304,
   "metadata": {
    "collapsed": true
   },
   "outputs": [
    {
     "data": {
      "text/plain": [
       "0       VinylSd\n",
       "1       Wd Sdng\n",
       "2       VinylSd\n",
       "3       VinylSd\n",
       "4       HdBoard\n",
       "5       HdBoard\n",
       "6       HdBoard\n",
       "7       VinylSd\n",
       "8       HdBoard\n",
       "9       VinylSd\n",
       "10      MetalSd\n",
       "11      HdBoard\n",
       "12      HdBoard\n",
       "13      VinylSd\n",
       "14      VinylSd\n",
       "15      VinylSd\n",
       "16      VinylSd\n",
       "17      VinylSd\n",
       "18      CemntBd\n",
       "19      VinylSd\n",
       "20      VinylSd\n",
       "21      VinylSd\n",
       "22      VinylSd\n",
       "23      VinylSd\n",
       "24      VinylSd\n",
       "25      VinylSd\n",
       "26      VinylSd\n",
       "27      VinylSd\n",
       "28      VinylSd\n",
       "29      VinylSd\n",
       "         ...   \n",
       "1429    MetalSd\n",
       "1430    MetalSd\n",
       "1431    Wd Sdng\n",
       "1432    BrkFace\n",
       "1433    MetalSd\n",
       "1434    CemntBd\n",
       "1435    CemntBd\n",
       "1436    VinylSd\n",
       "1437    VinylSd\n",
       "1438    VinylSd\n",
       "1439    VinylSd\n",
       "1440    VinylSd\n",
       "1441    VinylSd\n",
       "1442    VinylSd\n",
       "1443    VinylSd\n",
       "1444    Wd Sdng\n",
       "1445    MetalSd\n",
       "1446    CemntBd\n",
       "1447    VinylSd\n",
       "1448    VinylSd\n",
       "1449    CemntBd\n",
       "1450    CemntBd\n",
       "1451    VinylSd\n",
       "1452    CemntBd\n",
       "1453    CemntBd\n",
       "1454    CemntBd\n",
       "1455    CemntBd\n",
       "1456    VinylSd\n",
       "1457    HdBoard\n",
       "1458    HdBoard\n",
       "Name: Exterior1st, Length: 1459, dtype: object"
      ]
     },
     "execution_count": 304,
     "metadata": {},
     "output_type": "execute_result"
    }
   ],
   "source": [
    "groups = grouping('Exterior1st', train, 50000)\n",
    "assign_grouping('Exterior1st', val, groups)\n",
    "assign_grouping('Exterior1st', test, groups)"
   ]
  },
  {
   "cell_type": "code",
   "execution_count": 308,
   "metadata": {},
   "outputs": [],
   "source": [
    "groups = grouping('Exterior2nd', train, 10000)\n",
    "assign_grouping('Exterior2nd', val, groups)\n",
    "assign_grouping('Exterior2nd', test, groups)"
   ]
  },
  {
   "cell_type": "code",
   "execution_count": 309,
   "metadata": {},
   "outputs": [
    {
     "data": {
      "image/png": "[encoded data removed]",
      "text/plain": [
       "<matplotlib.figure.Figure at 0x10cb05a58>"
      ]
     },
     "metadata": {},
     "output_type": "display_data"
    }
   ],
   "source": [
    "colx = 'Exterior2nd'\n",
    "# print(train.groupby(colx).count()[['Id']]/1460)\n",
    "fig, ax = plt.subplots(figsize=(15,6))\n",
    "sns.boxplot(x=colx, y=\"SalePrice\", ax=ax, data=train);"
   ]
  },
  {
   "cell_type": "code",
   "execution_count": 262,
   "metadata": {
    "collapsed": true
   },
   "outputs": [
    {
     "data": {
      "text/plain": [
       "Index(['MSZoning', 'Street', 'Alley', 'LotShape', 'LandContour', 'Utilities',\n",
       "       'LotConfig', 'LandSlope', 'Neighborhood', 'Condition1', 'HouseStyle',\n",
       "       'RoofStyle', 'Exterior1st', 'Exterior2nd', 'MasVnrType', 'ExterQual',\n",
       "       'ExterCond', 'Foundation', 'BsmtExposure', 'BsmtFinType1', 'Heating',\n",
       "       'HeatingQC', 'CentralAir', 'Electrical', 'KitchenQual', 'Functional',\n",
       "       'GarageType', 'PavedDrive', 'Fence', 'MiscFeature', 'SaleType',\n",
       "       'SaleCondition', 'N1'],\n",
       "      dtype='object')"
      ]
     },
     "execution_count": 262,
     "metadata": {},
     "output_type": "execute_result"
    }
   ],
   "source": [
    "train.select_dtypes(include=['object']).columns"
   ]
  },
  {
   "cell_type": "code",
   "execution_count": 303,
   "metadata": {},
   "outputs": [],
   "source": [
    "from numpy import mean, std\n",
    "\n",
    "def grouping(col, data, m):\n",
    "    unique = data[col].unique()\n",
    "    pairs = dict()\n",
    "    for thing in unique:\n",
    "        means = mean(train[train[col] == thing]['SalePrice'])\n",
    "        stds = std(train[train[col] == thing]['SalePrice'])\n",
    "        pairs.update({thing: (means, stds)})\n",
    "    grouping = dict()\n",
    "    for key1 in pairs.keys():\n",
    "        for key2 in pairs.keys():\n",
    "            if pairs[key1][0] < pairs[key2][0] + m and pairs[key1][0] > pairs[key2][0] - m and key1 != key2:\n",
    "                data[col] = data[col].replace(to_replace = [key1], value = [key2])\n",
    "                grouping.update({key1: key2})\n",
    "        \n",
    "    return grouping"
   ]
  },
  {
   "cell_type": "code",
   "execution_count": 307,
   "metadata": {
    "collapsed": true
   },
   "outputs": [],
   "source": [
    "def assign_grouping(col, data, group):\n",
    "    for x in data[col]:\n",
    "        for key, value in group.items():\n",
    "            if x in value:\n",
    "                data[col] = data[col].replace(to_replace = [x], value = [key])"
   ]
  },
  {
   "cell_type": "code",
   "execution_count": 85,
   "metadata": {},
   "outputs": [
    {
     "data": {
      "text/plain": [
       "<matplotlib.collections.PathCollection at 0x10ca89588>"
      ]
     },
     "execution_count": 85,
     "metadata": {},
     "output_type": "execute_result"
    },
    {
     "data": {
      "image/png": "[encoded data removed]",
      "text/plain": [
       "<matplotlib.figure.Figure at 0x10c9662e8>"
      ]
     },
     "metadata": {},
     "output_type": "display_data"
    }
   ],
   "source": [
    "plt.scatter(train['MasVnrArea'], train['SalePrice'])"
   ]
  },
  {
   "cell_type": "code",
   "execution_count": 185,
   "metadata": {
    "scrolled": true
   },
   "outputs": [
    {
     "data": {
      "text/html": [
       "<div>\n",
       "<style>\n",
       "    .dataframe thead tr:only-child th {\n",
       "        text-align: right;\n",
       "    }\n",
       "\n",
       "    .dataframe thead th {\n",
       "        text-align: left;\n",
       "    }\n",
       "\n",
       "    .dataframe tbody tr th {\n",
       "        vertical-align: top;\n",
       "    }\n",
       "</style>\n",
       "<table border=\"1\" class=\"dataframe\">\n",
       "  <thead>\n",
       "    <tr style=\"text-align: right;\">\n",
       "      <th></th>\n",
       "      <th>Total</th>\n",
       "      <th>Ratio</th>\n",
       "    </tr>\n",
       "  </thead>\n",
       "  <tbody>\n",
       "    <tr>\n",
       "      <th>SaleCondition</th>\n",
       "      <td>0</td>\n",
       "      <td>0.0</td>\n",
       "    </tr>\n",
       "    <tr>\n",
       "      <th>Neighborhood</th>\n",
       "      <td>0</td>\n",
       "      <td>0.0</td>\n",
       "    </tr>\n",
       "    <tr>\n",
       "      <th>RoofMatl</th>\n",
       "      <td>0</td>\n",
       "      <td>0.0</td>\n",
       "    </tr>\n",
       "    <tr>\n",
       "      <th>RoofStyle</th>\n",
       "      <td>0</td>\n",
       "      <td>0.0</td>\n",
       "    </tr>\n",
       "    <tr>\n",
       "      <th>HouseStyle</th>\n",
       "      <td>0</td>\n",
       "      <td>0.0</td>\n",
       "    </tr>\n",
       "    <tr>\n",
       "      <th>BldgType</th>\n",
       "      <td>0</td>\n",
       "      <td>0.0</td>\n",
       "    </tr>\n",
       "    <tr>\n",
       "      <th>Condition2</th>\n",
       "      <td>0</td>\n",
       "      <td>0.0</td>\n",
       "    </tr>\n",
       "    <tr>\n",
       "      <th>Condition1</th>\n",
       "      <td>0</td>\n",
       "      <td>0.0</td>\n",
       "    </tr>\n",
       "    <tr>\n",
       "      <th>LandSlope</th>\n",
       "      <td>0</td>\n",
       "      <td>0.0</td>\n",
       "    </tr>\n",
       "    <tr>\n",
       "      <th>Exterior2nd</th>\n",
       "      <td>0</td>\n",
       "      <td>0.0</td>\n",
       "    </tr>\n",
       "    <tr>\n",
       "      <th>LotConfig</th>\n",
       "      <td>0</td>\n",
       "      <td>0.0</td>\n",
       "    </tr>\n",
       "    <tr>\n",
       "      <th>Utilities</th>\n",
       "      <td>0</td>\n",
       "      <td>0.0</td>\n",
       "    </tr>\n",
       "    <tr>\n",
       "      <th>LandContour</th>\n",
       "      <td>0</td>\n",
       "      <td>0.0</td>\n",
       "    </tr>\n",
       "    <tr>\n",
       "      <th>LotShape</th>\n",
       "      <td>0</td>\n",
       "      <td>0.0</td>\n",
       "    </tr>\n",
       "    <tr>\n",
       "      <th>Alley</th>\n",
       "      <td>0</td>\n",
       "      <td>0.0</td>\n",
       "    </tr>\n",
       "    <tr>\n",
       "      <th>Street</th>\n",
       "      <td>0</td>\n",
       "      <td>0.0</td>\n",
       "    </tr>\n",
       "    <tr>\n",
       "      <th>Exterior1st</th>\n",
       "      <td>0</td>\n",
       "      <td>0.0</td>\n",
       "    </tr>\n",
       "    <tr>\n",
       "      <th>MasVnrType</th>\n",
       "      <td>0</td>\n",
       "      <td>0.0</td>\n",
       "    </tr>\n",
       "    <tr>\n",
       "      <th>SaleType</th>\n",
       "      <td>0</td>\n",
       "      <td>0.0</td>\n",
       "    </tr>\n",
       "    <tr>\n",
       "      <th>Electrical</th>\n",
       "      <td>0</td>\n",
       "      <td>0.0</td>\n",
       "    </tr>\n",
       "  </tbody>\n",
       "</table>\n",
       "</div>"
      ],
      "text/plain": [
       "               Total  Ratio\n",
       "SaleCondition      0    0.0\n",
       "Neighborhood       0    0.0\n",
       "RoofMatl           0    0.0\n",
       "RoofStyle          0    0.0\n",
       "HouseStyle         0    0.0\n",
       "BldgType           0    0.0\n",
       "Condition2         0    0.0\n",
       "Condition1         0    0.0\n",
       "LandSlope          0    0.0\n",
       "Exterior2nd        0    0.0\n",
       "LotConfig          0    0.0\n",
       "Utilities          0    0.0\n",
       "LandContour        0    0.0\n",
       "LotShape           0    0.0\n",
       "Alley              0    0.0\n",
       "Street             0    0.0\n",
       "Exterior1st        0    0.0\n",
       "MasVnrType         0    0.0\n",
       "SaleType           0    0.0\n",
       "Electrical         0    0.0"
      ]
     },
     "execution_count": 185,
     "metadata": {},
     "output_type": "execute_result"
    }
   ],
   "source": [
    "#missing data\n",
    "total = train[train.select_dtypes(include=['object']).columns].isnull().sum().sort_values(ascending=False)\n",
    "percent = (train[train.select_dtypes(include=['object']).columns].isnull().sum()/train[train.select_dtypes(include=['object']).columns].isnull().count()).sort_values(ascending=False)\n",
    "missing_data = pd.concat([total, percent], axis=1, keys=['Total', 'Ratio'])\n",
    "missing_data.head(20)"
   ]
  },
  {
   "cell_type": "code",
   "execution_count": 170,
   "metadata": {},
   "outputs": [
    {
     "data": {
      "text/plain": [
       "Index(['Id', 'MSSubClass', 'LotFrontage', 'LotArea', 'OverallQual',\n",
       "       'OverallCond', 'YearBuilt', 'YearRemodAdd', 'MasVnrArea', 'BsmtFinSF1',\n",
       "       'BsmtFinSF2', 'BsmtUnfSF', 'TotalBsmtSF', '1stFlrSF', '2ndFlrSF',\n",
       "       'LowQualFinSF', 'GrLivArea', 'BsmtFullBath', 'BsmtHalfBath', 'FullBath',\n",
       "       'HalfBath', 'BedroomAbvGr', 'KitchenAbvGr', 'TotRmsAbvGrd',\n",
       "       'Fireplaces', 'GarageYrBlt', 'GarageCars', 'GarageArea', 'WoodDeckSF',\n",
       "       'OpenPorchSF', 'EnclosedPorch', '3SsnPorch', 'ScreenPorch', 'PoolArea',\n",
       "       'MiscVal', 'MoSold', 'YrSold', 'SalePrice'],\n",
       "      dtype='object')"
      ]
     },
     "execution_count": 170,
     "metadata": {},
     "output_type": "execute_result"
    }
   ],
   "source": [
    "train.select_dtypes(exclude=['object']).columns"
   ]
  },
  {
   "cell_type": "code",
   "execution_count": 88,
   "metadata": {},
   "outputs": [
    {
     "data": {
      "image/png": "[encoded data removed]",
      "text/plain": [
       "<matplotlib.figure.Figure at 0x10cacc2e8>"
      ]
     },
     "metadata": {},
     "output_type": "display_data"
    }
   ],
   "source": [
    "#correlation matrix\n",
    "corrmat = train[train.select_dtypes(exclude=['object']).columns].corr()\n",
    "f, ax = plt.subplots(figsize=(12, 12))\n",
    "sns.heatmap(corrmat, square=True, cmap=\"YlGnBu\", linewidths=.5, annot=False);"
   ]
  },
  {
   "cell_type": "markdown",
   "metadata": {},
   "source": [
    "GarageYrBlt and YearBlt are highly correlated with each other.\n",
    "GarageYrBlt and YrRemodAdd are highly correlated\n",
    "GarageCars and GarageArea are highly correlated.\n",
    "GrLivArea and TotRmsAbvGrd are highly correlated.\n",
    "BsmtFullBath and BsmtFinSF1 are highly correlated.\n",
    "TotalBsmtSF and 1stFlrSF are highly correlated.\n",
    "2ndFlrSF and TotRmsAbvGrd are highly correlated."
   ]
  },
  {
   "cell_type": "markdown",
   "metadata": {},
   "source": [
    "SalePrice is highly correlated with OverallQual, GrLivArea, GarageCars, TotalBsmtSF, YearBuilt, FullBath"
   ]
  },
  {
   "cell_type": "code",
   "execution_count": 9,
   "metadata": {},
   "outputs": [
    {
     "data": {
      "image/png": "[encoded data removed]",
      "text/plain": [
       "<matplotlib.figure.Figure at 0x10a378630>"
      ]
     },
     "metadata": {},
     "output_type": "display_data"
    }
   ],
   "source": [
    "#saleprice correlation matrix\n",
    "k = 10 #number of variables for heatmap\n",
    "cols = corrmat.nlargest(k, 'SalePrice')['SalePrice'].index\n",
    "f, ax = plt.subplots(figsize=(12, 9))\n",
    "cm = np.corrcoef(train[cols].values.T)\n",
    "sns.set(font_scale=1.25)\n",
    "hm = sns.heatmap(cm, cbar=True, annot=True, square=True, fmt='.2f', annot_kws={'size': 10}, yticklabels=cols.values, xticklabels=cols.values)\n",
    "plt.show()"
   ]
  },
  {
   "cell_type": "code",
   "execution_count": null,
   "metadata": {
    "collapsed": true
   },
   "outputs": [],
   "source": [
    "#scatterplot\n",
    "sns.set()\n",
    "cols = ['ExterQual', 'HeatingQC', 'OverallQual', 'GrLivArea','GarageCars','TotalBsmtSF','FullBath','YearBuilt',\\\n",
    "        'BsmtQual','SalePrice', 'log_price']\n",
    "sns.pairplot(train[cols], size = 2.5)\n",
    "plt.show();"
   ]
  },
  {
   "cell_type": "markdown",
   "metadata": {},
   "source": [
    "Now, the turn of missing variables.."
   ]
  },
  {
   "cell_type": "code",
   "execution_count": 95,
   "metadata": {},
   "outputs": [
    {
     "data": {
      "text/plain": [
       "1168"
      ]
     },
     "execution_count": 95,
     "metadata": {},
     "output_type": "execute_result"
    }
   ],
   "source": [
    "len(train)"
   ]
  },
  {
   "cell_type": "code",
   "execution_count": 86,
   "metadata": {
    "collapsed": true
   },
   "outputs": [],
   "source": []
  },
  {
   "cell_type": "code",
   "execution_count": 17,
   "metadata": {
    "collapsed": true
   },
   "outputs": [
    {
     "data": {
      "text/html": [
       "<div>\n",
       "<style>\n",
       "    .dataframe thead tr:only-child th {\n",
       "        text-align: right;\n",
       "    }\n",
       "\n",
       "    .dataframe thead th {\n",
       "        text-align: left;\n",
       "    }\n",
       "\n",
       "    .dataframe tbody tr th {\n",
       "        vertical-align: top;\n",
       "    }\n",
       "</style>\n",
       "<table border=\"1\" class=\"dataframe\">\n",
       "  <thead>\n",
       "    <tr style=\"text-align: right;\">\n",
       "      <th></th>\n",
       "      <th>Total</th>\n",
       "      <th>Percent</th>\n",
       "      <th>dtype</th>\n",
       "    </tr>\n",
       "  </thead>\n",
       "  <tbody>\n",
       "    <tr>\n",
       "      <th>PoolQC</th>\n",
       "      <td>1456</td>\n",
       "      <td>0.997944</td>\n",
       "      <td>object</td>\n",
       "    </tr>\n",
       "    <tr>\n",
       "      <th>MiscFeature</th>\n",
       "      <td>1408</td>\n",
       "      <td>0.965045</td>\n",
       "      <td>object</td>\n",
       "    </tr>\n",
       "    <tr>\n",
       "      <th>Alley</th>\n",
       "      <td>1352</td>\n",
       "      <td>0.926662</td>\n",
       "      <td>object</td>\n",
       "    </tr>\n",
       "    <tr>\n",
       "      <th>Fence</th>\n",
       "      <td>1169</td>\n",
       "      <td>0.801234</td>\n",
       "      <td>object</td>\n",
       "    </tr>\n",
       "    <tr>\n",
       "      <th>FireplaceQu</th>\n",
       "      <td>730</td>\n",
       "      <td>0.500343</td>\n",
       "      <td>object</td>\n",
       "    </tr>\n",
       "    <tr>\n",
       "      <th>LotFrontage</th>\n",
       "      <td>227</td>\n",
       "      <td>0.155586</td>\n",
       "      <td>float64</td>\n",
       "    </tr>\n",
       "    <tr>\n",
       "      <th>GarageCond</th>\n",
       "      <td>78</td>\n",
       "      <td>0.053461</td>\n",
       "      <td>object</td>\n",
       "    </tr>\n",
       "    <tr>\n",
       "      <th>GarageQual</th>\n",
       "      <td>78</td>\n",
       "      <td>0.053461</td>\n",
       "      <td>object</td>\n",
       "    </tr>\n",
       "    <tr>\n",
       "      <th>GarageYrBlt</th>\n",
       "      <td>78</td>\n",
       "      <td>0.053461</td>\n",
       "      <td>float64</td>\n",
       "    </tr>\n",
       "    <tr>\n",
       "      <th>GarageFinish</th>\n",
       "      <td>78</td>\n",
       "      <td>0.053461</td>\n",
       "      <td>object</td>\n",
       "    </tr>\n",
       "    <tr>\n",
       "      <th>GarageType</th>\n",
       "      <td>76</td>\n",
       "      <td>0.052090</td>\n",
       "      <td>object</td>\n",
       "    </tr>\n",
       "    <tr>\n",
       "      <th>BsmtCond</th>\n",
       "      <td>45</td>\n",
       "      <td>0.030843</td>\n",
       "      <td>object</td>\n",
       "    </tr>\n",
       "    <tr>\n",
       "      <th>BsmtQual</th>\n",
       "      <td>44</td>\n",
       "      <td>0.030158</td>\n",
       "      <td>object</td>\n",
       "    </tr>\n",
       "    <tr>\n",
       "      <th>BsmtExposure</th>\n",
       "      <td>44</td>\n",
       "      <td>0.030158</td>\n",
       "      <td>object</td>\n",
       "    </tr>\n",
       "    <tr>\n",
       "      <th>BsmtFinType1</th>\n",
       "      <td>42</td>\n",
       "      <td>0.028787</td>\n",
       "      <td>object</td>\n",
       "    </tr>\n",
       "    <tr>\n",
       "      <th>BsmtFinType2</th>\n",
       "      <td>42</td>\n",
       "      <td>0.028787</td>\n",
       "      <td>object</td>\n",
       "    </tr>\n",
       "    <tr>\n",
       "      <th>MasVnrType</th>\n",
       "      <td>16</td>\n",
       "      <td>0.010966</td>\n",
       "      <td>object</td>\n",
       "    </tr>\n",
       "    <tr>\n",
       "      <th>MasVnrArea</th>\n",
       "      <td>15</td>\n",
       "      <td>0.010281</td>\n",
       "      <td>float64</td>\n",
       "    </tr>\n",
       "    <tr>\n",
       "      <th>MSZoning</th>\n",
       "      <td>4</td>\n",
       "      <td>0.002742</td>\n",
       "      <td>object</td>\n",
       "    </tr>\n",
       "    <tr>\n",
       "      <th>BsmtHalfBath</th>\n",
       "      <td>2</td>\n",
       "      <td>0.001371</td>\n",
       "      <td>float64</td>\n",
       "    </tr>\n",
       "    <tr>\n",
       "      <th>Utilities</th>\n",
       "      <td>2</td>\n",
       "      <td>0.001371</td>\n",
       "      <td>object</td>\n",
       "    </tr>\n",
       "    <tr>\n",
       "      <th>Functional</th>\n",
       "      <td>2</td>\n",
       "      <td>0.001371</td>\n",
       "      <td>object</td>\n",
       "    </tr>\n",
       "    <tr>\n",
       "      <th>BsmtFullBath</th>\n",
       "      <td>2</td>\n",
       "      <td>0.001371</td>\n",
       "      <td>float64</td>\n",
       "    </tr>\n",
       "    <tr>\n",
       "      <th>BsmtFinSF2</th>\n",
       "      <td>1</td>\n",
       "      <td>0.000685</td>\n",
       "      <td>float64</td>\n",
       "    </tr>\n",
       "    <tr>\n",
       "      <th>BsmtFinSF1</th>\n",
       "      <td>1</td>\n",
       "      <td>0.000685</td>\n",
       "      <td>float64</td>\n",
       "    </tr>\n",
       "    <tr>\n",
       "      <th>Exterior2nd</th>\n",
       "      <td>1</td>\n",
       "      <td>0.000685</td>\n",
       "      <td>object</td>\n",
       "    </tr>\n",
       "    <tr>\n",
       "      <th>BsmtUnfSF</th>\n",
       "      <td>1</td>\n",
       "      <td>0.000685</td>\n",
       "      <td>float64</td>\n",
       "    </tr>\n",
       "    <tr>\n",
       "      <th>TotalBsmtSF</th>\n",
       "      <td>1</td>\n",
       "      <td>0.000685</td>\n",
       "      <td>float64</td>\n",
       "    </tr>\n",
       "    <tr>\n",
       "      <th>SaleType</th>\n",
       "      <td>1</td>\n",
       "      <td>0.000685</td>\n",
       "      <td>object</td>\n",
       "    </tr>\n",
       "    <tr>\n",
       "      <th>Exterior1st</th>\n",
       "      <td>1</td>\n",
       "      <td>0.000685</td>\n",
       "      <td>object</td>\n",
       "    </tr>\n",
       "    <tr>\n",
       "      <th>KitchenQual</th>\n",
       "      <td>1</td>\n",
       "      <td>0.000685</td>\n",
       "      <td>object</td>\n",
       "    </tr>\n",
       "    <tr>\n",
       "      <th>GarageArea</th>\n",
       "      <td>1</td>\n",
       "      <td>0.000685</td>\n",
       "      <td>float64</td>\n",
       "    </tr>\n",
       "    <tr>\n",
       "      <th>GarageCars</th>\n",
       "      <td>1</td>\n",
       "      <td>0.000685</td>\n",
       "      <td>float64</td>\n",
       "    </tr>\n",
       "    <tr>\n",
       "      <th>HouseStyle</th>\n",
       "      <td>0</td>\n",
       "      <td>0.000000</td>\n",
       "      <td>object</td>\n",
       "    </tr>\n",
       "  </tbody>\n",
       "</table>\n",
       "</div>"
      ],
      "text/plain": [
       "              Total   Percent    dtype\n",
       "PoolQC         1456  0.997944   object\n",
       "MiscFeature    1408  0.965045   object\n",
       "Alley          1352  0.926662   object\n",
       "Fence          1169  0.801234   object\n",
       "FireplaceQu     730  0.500343   object\n",
       "LotFrontage     227  0.155586  float64\n",
       "GarageCond       78  0.053461   object\n",
       "GarageQual       78  0.053461   object\n",
       "GarageYrBlt      78  0.053461  float64\n",
       "GarageFinish     78  0.053461   object\n",
       "GarageType       76  0.052090   object\n",
       "BsmtCond         45  0.030843   object\n",
       "BsmtQual         44  0.030158   object\n",
       "BsmtExposure     44  0.030158   object\n",
       "BsmtFinType1     42  0.028787   object\n",
       "BsmtFinType2     42  0.028787   object\n",
       "MasVnrType       16  0.010966   object\n",
       "MasVnrArea       15  0.010281  float64\n",
       "MSZoning          4  0.002742   object\n",
       "BsmtHalfBath      2  0.001371  float64\n",
       "Utilities         2  0.001371   object\n",
       "Functional        2  0.001371   object\n",
       "BsmtFullBath      2  0.001371  float64\n",
       "BsmtFinSF2        1  0.000685  float64\n",
       "BsmtFinSF1        1  0.000685  float64\n",
       "Exterior2nd       1  0.000685   object\n",
       "BsmtUnfSF         1  0.000685  float64\n",
       "TotalBsmtSF       1  0.000685  float64\n",
       "SaleType          1  0.000685   object\n",
       "Exterior1st       1  0.000685   object\n",
       "KitchenQual       1  0.000685   object\n",
       "GarageArea        1  0.000685  float64\n",
       "GarageCars        1  0.000685  float64\n",
       "HouseStyle        0  0.000000   object"
      ]
     },
     "execution_count": 17,
     "metadata": {},
     "output_type": "execute_result"
    }
   ],
   "source": [
    "#missing data\n",
    "total_test = test.isnull().sum().sort_values(ascending=False)\n",
    "percent_test = (test.isnull().sum()/test.isnull().count()).sort_values(ascending=False)\n",
    "missing_data_test = pd.concat([total_test, percent_test], axis=1, keys=['Total', 'Percent'])\n",
    "missing_data_test.loc[:, 'dtype'] = test[(missing_data_test.index)].dtypes\n",
    "missing_data_test.head(34)"
   ]
  },
  {
   "cell_type": "code",
   "execution_count": null,
   "metadata": {
    "collapsed": true
   },
   "outputs": [],
   "source": [
    "test= test.sort_values(by='ExterQual')\n",
    "test.loc[:, 'KitchenQual'] = test['KitchenQual'].fillna(method = 'bfill')\n",
    "test= test.sort_values(by='Id')"
   ]
  },
  {
   "cell_type": "code",
   "execution_count": null,
   "metadata": {
    "collapsed": true
   },
   "outputs": [],
   "source": [
    "test.loc[(test[test['MSZoning'].isnull()]).index]"
   ]
  },
  {
   "cell_type": "code",
   "execution_count": 77,
   "metadata": {
    "collapsed": true
   },
   "outputs": [],
   "source": [
    "def rmse(y_pred, y):\n",
    "    return np.sqrt(np.mean(np.square(y_pred-y)))\n",
    "def rmsle(y_pred, y):\n",
    "    return np.sqrt(np.mean(np.square(np.log(y_pred+1) - np.log(y+1))))\n",
    "\n",
    "def fill_missing(colx, value):\n",
    "    train.loc[:, colx] = train.loc[:, colx].fillna(value)\n",
    "    test.loc[:, colx] = test.loc[:, colx].fillna(value)\n",
    "    test.loc[:, colx] = val.loc[:, colx].fillna(value)"
   ]
  },
  {
   "cell_type": "code",
   "execution_count": 280,
   "metadata": {
    "collapsed": true
   },
   "outputs": [],
   "source": [
    "train = pd.read_csv('train.csv')\n",
    "test = pd.read_csv('test.csv')\n",
    "all_data = pd.concat((train, test))\n",
    "#missing data\n",
    "total = train.isnull().sum().sort_values(ascending=False)\n",
    "percent = (train.isnull().sum()/train.isnull().count()).sort_values(ascending=False)\n",
    "missing_data = pd.concat([total, percent], axis=1, keys=['Total', 'Percent'])\n",
    "\n",
    "train = train.drop((missing_data[missing_data['Percent']>0.15]).index,1)\n",
    "test=test.drop((missing_data[missing_data['Percent']>0.15]).index,1)\n",
    "\n",
    "for col in train.select_dtypes(exclude = ['object']):\n",
    "    if train[col].isnull().sum() > 0:\n",
    "        train.loc[:, col] = train.loc[:, col].fillna(train[col].mean().astype(int))\n",
    "\n",
    "for col in test.select_dtypes(exclude = ['object']):\n",
    "    if test[col].isnull().sum() > 0:\n",
    "        test.loc[:, col] = test.loc[:, col].fillna(test[col].mean().astype(int))\n",
    "# Thus the numerical columns have been fixed.\n",
    "\n",
    "for col in train.select_dtypes(include = ['object']):\n",
    "    if train[col].isnull().sum() > 0:\n",
    "        train.loc[:, col] = train.loc[:, col].fillna(train[col].mode()[0])\n",
    "\n",
    "for col in test.select_dtypes(include = ['object']):\n",
    "    if test[col].isnull().sum() > 0:\n",
    "        test.loc[:, col] = test.loc[:, col].fillna(test[col].mode()[0])\n",
    "# Now there is no missing data\n",
    "\n",
    "train = pd.get_dummies(train)\n",
    "test = pd.get_dummies(test)\n",
    "\n",
    "drop = list(set(train) - set(test))\n",
    "drop.remove('SalePrice')\n",
    "train = train.drop(drop, axis = 1, inplace = False)\n",
    "# Now train and test both have the same dummy variables\n",
    "\n",
    "# Time for PCA\n",
    "features = list(train)\n",
    "features.remove('SalePrice')\n",
    "features.remove('Id')\n",
    "\n",
    "# # Feature Scaling\n",
    "from sklearn.preprocessing import StandardScaler\n",
    "sc = StandardScaler()\n",
    "X_train = sc.fit_transform(train[features])\n",
    "X_test = sc.transform(test[features])\n",
    "\n",
    "# # # Applying PCA\n",
    "from sklearn.decomposition import PCA\n",
    "pca = PCA()\n",
    "X_train = pca.fit_transform(X_train)\n",
    "X_test = pca.transform(X_test)\n",
    "# explained_variance = pca.explained_variance_ratio_"
   ]
  },
  {
   "cell_type": "code",
   "execution_count": 282,
   "metadata": {},
   "outputs": [
    {
     "name": "stdout",
     "output_type": "stream",
     "text": [
      "253\n"
     ]
    }
   ],
   "source": [
    "# Fitting Random Forest Regression to the dataset\n",
    "from sklearn.ensemble import GradientBoostingRegressor\n",
    "alpha = 0.95\n",
    "# regressor = GradientBoostingRegressor(loss='ls', alpha=alpha,\n",
    "#                                 n_estimators=250, max_depth=100,\n",
    "#                                 learning_rate=.01, min_samples_leaf=5,\n",
    "#                                 min_samples_split=2)\n",
    "\n",
    "from sklearn.ensemble import RandomForestRegressor\n",
    "regressor = RandomForestRegressor(n_estimators = 250, random_state = 0)\n",
    "keep = list(set(list(train)) - set(['Id',  'SalePrice']))\n",
    "\n",
    "y = train['SalePrice'] \n",
    "\n",
    "# Splitting the dataset into the Training set and Test set\n",
    "# from sklearn.model_selection import train_test_split\n",
    "# X_train, X_test, y_train, y_test = train_test_split(X, y, test_size = 0.2, random_state = 0)\n",
    "\n",
    "regressor.fit(X_train, y)\n",
    "\n",
    "y_pred = regressor.predict(X_train)\n",
    "y_pred_test = regressor.predict(X_test)\n",
    "\n",
    "# y_pred = np.exp(y_pred) -1\n",
    "# y_pred_test = np.exp(y_pred_test) -1\n",
    "# y = np.exp(y) -1\n",
    "\n",
    "submission = pd.DataFrame( y_pred_test, columns = [ 'SalePrice'])\n",
    "submission.loc[:, 'Id'] = test['Id']\n",
    "submission = submission[['Id', 'SalePrice']]\n",
    "submission.to_csv('submission.csv', index=False)\n",
    "print(regressor.n_features_)"
   ]
  },
  {
   "cell_type": "code",
   "execution_count": 283,
   "metadata": {
    "collapsed": true
   },
   "outputs": [],
   "source": [
    "train.loc[:, 'PredPrice'] = y_pred\n",
    "train = train.sort_values(by = 'SalePrice')"
   ]
  },
  {
   "cell_type": "code",
   "execution_count": 285,
   "metadata": {},
   "outputs": [
    {
     "data": {
      "image/png": "[encoded data removed]",
      "text/plain": [
       "<matplotlib.figure.Figure at 0x10ecd5dd8>"
      ]
     },
     "metadata": {},
     "output_type": "display_data"
    }
   ],
   "source": [
    "f, ax = plt.subplots(figsize=(12, 12))\n",
    "plt.scatter(train['SalePrice'], range(1460), label = 'Original Sale Price')\n",
    "plt.scatter(train['PredPrice'], range(1460), label = 'Predicted Sale Price')\n",
    "plt.legend(loc=0)\n",
    "plt.show()"
   ]
  },
  {
   "cell_type": "code",
   "execution_count": 286,
   "metadata": {},
   "outputs": [
    {
     "data": {
      "text/plain": [
       "<matplotlib.collections.PathCollection at 0x10d544940>"
      ]
     },
     "execution_count": 286,
     "metadata": {},
     "output_type": "execute_result"
    },
    {
     "data": {
      "image/png": "[encoded data removed]",
      "text/plain": [
       "<matplotlib.figure.Figure at 0x10f5a3550>"
      ]
     },
     "metadata": {},
     "output_type": "display_data"
    }
   ],
   "source": [
    "f, ax = plt.subplots(figsize=(15, 12))\n",
    "plt.scatter(y, y_pred)\n",
    "plt.scatter(y,y )"
   ]
  },
  {
   "cell_type": "code",
   "execution_count": 212,
   "metadata": {},
   "outputs": [
    {
     "name": "stderr",
     "output_type": "stream",
     "text": [
      "/usr/local/lib/python3.6/site-packages/ipykernel_launcher.py:108: RuntimeWarning: divide by zero encountered in log\n",
      "/usr/local/lib/python3.6/site-packages/ipykernel_launcher.py:110: RuntimeWarning: divide by zero encountered in log\n"
     ]
    }
   ],
   "source": [
    "from scipy.stats import skew\n",
    "train = pd.read_csv('train.csv')\n",
    "test = pd.read_csv('test.csv')\n",
    "\n",
    "#log transform skewed numeric features:\n",
    "# numeric_feats = list(train.select_dtypes(exclude=['object']).columns)\n",
    "\n",
    "# skewed_feats = train[numeric_feats].apply(lambda x: skew(x.dropna())) #compute skewness\n",
    "\n",
    "# skewed_feats = skewed_feats[skewed_feats > 0.75]\n",
    "# skewed_feats = skewed_feats.index\n",
    "# skewed_feats = list(skewed_feats)\n",
    "\n",
    "# train.loc[:, skewed_feats] = np.log1p(train[skewed_feats])\n",
    "# test.loc[:, list(set(skewed_feats) - set(['SalePrice']))] = np.log1p(test[list(set(skewed_feats) - set(['SalePrice']))])\n",
    "\n",
    "# dropping the highly missing features from train and test sets\n",
    "train.drop(['PoolQC', 'MiscFeature', 'Alley','Fence', 'FireplaceQu', 'LotFrontage'],axis=1, inplace=True)\n",
    "test.drop(['PoolQC', 'MiscFeature', 'Alley','Fence', 'FireplaceQu', 'LotFrontage'],axis=1, inplace=True)\n",
    "\n",
    "# replace the Bsmt qual values with integers\n",
    "train[['GarageQual', 'GarageCond']].fillna('missing')\n",
    "test[['GarageQual', 'GarageCond']].fillna('missing')\n",
    "import math\n",
    "for coly in ['GarageQual', 'GarageCond']:\n",
    "    train.loc[:, coly+'_num'] = train[coly].replace(to_replace = ['missing', 'Po', 'Fa', 'TA', 'Gd', 'Ex'],\\\n",
    "                                                          value = [0,1,2,3,4,5])\n",
    "    test.loc[:, coly+'_num'] = test[coly].replace(to_replace = ['missing', 'Po', 'Fa', 'TA', 'Gd', 'Ex'],\\\n",
    "                                                          value = [0,1,2,3,4,5])\n",
    "\n",
    "fill_missing('BsmtQual', 0)\n",
    "\n",
    "for coly in ['BsmtQual']:\n",
    "    train.loc[:, coly] = train[coly].replace(to_replace = ['missing', 'Po', 'Fa', 'TA', 'Gd', 'Ex'],\\\n",
    "                                                          value = [0,1,2,3,4,5])\n",
    "    test.loc[:, coly] = test[coly].replace(to_replace=  ['missing', 'Po', 'Fa', 'TA', 'Gd', 'Ex'],\\\n",
    "                                                          value = [0,1,2,3,4,5])\n",
    "fill_missing('Electrical', 'SBrkr')\n",
    "\n",
    "# train.loc[:, 'log_price'] = np.log(train['SalePrice'])\n",
    "\n",
    "#missing data\n",
    "total = train.isnull().sum().sort_values(ascending=False)\n",
    "percent = (train.isnull().sum()/train.isnull().count()).sort_values(ascending=False)\n",
    "missing_data = pd.concat([total, percent], axis=1, keys=['Total', 'Percent'])\n",
    "\n",
    "train = train.drop((missing_data[missing_data['Total']>0]).index,1)\n",
    "test=test.drop((missing_data[missing_data['Total']>0]).index,1)\n",
    "\n",
    "fill_missing(['GarageCars', 'TotalBsmtSF', 'GarageArea'], 0)\n",
    "train = train.drop(['BsmtHalfBath', 'BsmtFullBath', 'BsmtFinSF1', 'BsmtUnfSF', 'BsmtFinSF2'],1)\n",
    "test = test.drop(['BsmtHalfBath', 'BsmtFullBath', 'BsmtFinSF1', 'BsmtUnfSF', 'BsmtFinSF2'],1)\n",
    "\n",
    "train.loc[:, 'LotShape'] = train['LotShape'].replace(to_replace = ['IR2', 'IR3'], value=['IR1', 'IR1'])\n",
    "test.loc[:, 'LotShape'] = test['LotShape'].replace(to_replace = ['IR2', 'IR3'], value=['IR1', 'IR1'])\n",
    "\n",
    "train.loc[:, 'HouseStyle'] = train['HouseStyle'].replace(to_replace = ['2.5Unf', 'SFoyer', 'SLvl'], value=['other', 'other', 'other'])\n",
    "test.loc[:, 'HouseStyle'] = test['HouseStyle'].replace(to_replace = ['2.5Unf', 'SFoyer', 'SLvl'], value=['other', 'other', 'other'])\n",
    "\n",
    "train.loc[:, 'RoofStyle'] = train['RoofStyle'].replace(to_replace = ['Gambrel', 'Mansard', 'Flat', 'Shed'], value=['other', 'other', 'other', 'other'])\n",
    "test.loc[:, 'RoofStyle'] = test['RoofStyle'].replace(to_replace = ['Gambrel', 'Mansard', 'Flat', 'Shed'], value=['other', 'other', 'other', 'other'])\n",
    "\n",
    "coly = 'Foundation'\n",
    "train.loc[:, coly] = train[coly].replace(to_replace = ['Wood', 'Slab', 'Stone'],\\\n",
    "                                                      value = ['other', 'other', 'other'])\n",
    "test.loc[:, coly] = test[coly].replace(to_replace=  ['Wood', 'Slab', 'Stone'],\\\n",
    "                                                    value = ['other', 'other', 'other'])\n",
    "\n",
    "coly = 'PavedDrive'\n",
    "train.loc[:, coly] = train[coly].replace(to_replace = ['N', 'P', 'Y'],\\\n",
    "                                                      value = [1,2,3])\n",
    "test.loc[:, coly] = test[coly].replace(to_replace= ['N', 'P', 'Y'],\\\n",
    "                                                    value = [1,2,3])\n",
    "\n",
    "coly = 'SaleType'\n",
    "train.loc[:, coly] = train[coly].replace(to_replace = ['New', 'COD', 'CWD', 'Con', 'ConLD', 'ConLI', 'ConLw', 'Oth', 'WD'],\\\n",
    "                                                      value = [1,0,0,0,0,0,0,0,0])\n",
    "test.loc[:, coly] = test[coly].replace(to_replace= ['New', 'COD', 'CWD', 'Con', 'ConLD', 'ConLI', 'ConLw', 'Oth', 'WD'],\\\n",
    "                                                    value = [1,0,0,0,0,0,0,0,0])\n",
    "for coly in ['ExterQual', 'ExterCond', 'HeatingQC', 'KitchenQual' ]:\n",
    "    train.loc[:, coly] = train[coly].replace(to_replace = ['missing', 'Po', 'Fa', 'TA', 'Gd', 'Ex'],\\\n",
    "                                                          value = [0,1,2,3,4,5])\n",
    "    test.loc[:, coly] = test[coly].replace(to_replace=  ['missing', 'Po', 'Fa', 'TA', 'Gd', 'Ex'],\\\n",
    "                                                          value = [0,1,2,3,4,5])\n",
    "\n",
    "keep = ['Id', 'LotShape', 'HouseStyle', 'RoofStyle', 'ExterQual', 'ExterCond', 'PavedDrive', \\\n",
    "        'HeatingQC', 'KitchenQual', 'SaleType', 'Foundation', 'OverallQual', \\\n",
    "        'GrLivArea', 'GarageCars', 'GarageArea', 'TotalBsmtSF', 'FullBath', 'YearBuilt', 'BsmtQual',\\\n",
    "        'SalePrice']\n",
    "# keep = set(train) - set(['PoolQC', 'MiscFeature', 'Alley','Fence', 'FireplaceQu', 'LotFrontage', ])\n",
    "\n",
    "train = train[keep]\n",
    "test = test[list(set(keep) -  set(['SalePrice']))]\n",
    "\n",
    "test= test.sort_values(by='ExterQual')\n",
    "test.loc[:, 'KitchenQual'] = test['KitchenQual'].fillna(method = 'bfill')\n",
    "test= test.sort_values(by='Id')\n",
    "\n",
    "test.loc[:,'SaleType'] = test['SaleType'].fillna(0) #randomly chosen\n",
    "\n",
    "train = pd.get_dummies(train)\n",
    "test = pd.get_dummies(test)\n",
    "\n",
    "#deleting one column to avoid falling into dummy variable trap\n",
    "del train['HouseStyle_2.5Fin']\n",
    "del train['Foundation_BrkTil']\n",
    "del test['Foundation_BrkTil']\n",
    "\n",
    "# del train['RoofStyle_other']\n",
    "# del test['RoofStyle_other']\n",
    "\n",
    "# del train['HouseStyle_other']\n",
    "# del test['HouseStyle_other']\n",
    "\n",
    "# del train['LotShape_IR1']\n",
    "# del test['LotShape_IR1']\n",
    "\n",
    "# train.sort_values(by = 'GrLivArea', ascending = False)[:2]\n",
    "# train = train.drop(train[train['Id'] == 1298].index)\n",
    "# train = train.drop(train[train['Id'] == 523].index)\n",
    "# train.sort_values(by = 'Id', ascending = True)\n",
    "\n",
    "train.loc[train['TotalBsmtSF']>0,'TotalBsmtSF'] = np.log(train[ 'TotalBsmtSF'])\n",
    "train.loc[train['GrLivArea']>0,'GrLivArea'] = np.log(train[ 'GrLivArea'])\n",
    "test.loc[test['TotalBsmtSF']>0,'TotalBsmtSF'] = np.log(test[ 'TotalBsmtSF'])\n",
    "test.loc[test['GrLivArea']>0,'GrLivArea'] = np.log(test[ 'GrLivArea'])\n",
    "\n",
    "# # Splitting the dataset into the Training set and Test set\n",
    "# from sklearn.cross_validation import train_test_split\n",
    "# X_train, X_test, y_train, y_test = train_test_split(train, y, test_size = 0.2, random_state = 0)\n"
   ]
  },
  {
   "cell_type": "code",
   "execution_count": 287,
   "metadata": {},
   "outputs": [
    {
     "data": {
      "text/plain": [
       "0.063269860134068226"
      ]
     },
     "execution_count": 287,
     "metadata": {},
     "output_type": "execute_result"
    }
   ],
   "source": [
    "rmsle(y_pred, y)"
   ]
  },
  {
   "cell_type": "code",
   "execution_count": 24,
   "metadata": {},
   "outputs": [
    {
     "data": {
      "text/plain": [
       "0.19509570343892496"
      ]
     },
     "execution_count": 24,
     "metadata": {},
     "output_type": "execute_result"
    }
   ],
   "source": [
    "rmsle(y_pred_test, y_test)"
   ]
  },
  {
   "cell_type": "code",
   "execution_count": null,
   "metadata": {
    "collapsed": true
   },
   "outputs": [],
   "source": [
    "# Fitting Multiple Linear Regression to the Training set\n",
    "from sklearn.linear_model import LinearRegression\n",
    "\n",
    "keep = list(set(list(train)) - set(['Id', 'log_price', 'SalePrice']))\n",
    "X = train[keep]\n",
    "y = train['log_price'] \n",
    "\n",
    "#Splitting the dataset into the Training set and Test set\n",
    "from sklearn.cross_validation import train_test_split\n",
    "X_train, X_test, y_train, y_test = train_test_split(X, y, test_size = 0.2, random_state = 0)\n",
    "\n",
    "# Fitting Polynomial Regression to the dataset\n",
    "from sklearn.preprocessing import PolynomialFeatures\n",
    "poly_reg = PolynomialFeatures(degree = 2)\n",
    "X_poly = poly_reg.fit_transform(X_train)\n",
    "poly_reg.fit(X_poly, y_train)\n",
    "lin_reg_2 = LinearRegression()\n",
    "lin_reg_2.fit(X_poly, y_train)\n",
    "\n",
    "y_pred = lin_reg_2.predict(poly_reg.fit_transform(X_train))\n",
    "\n",
    "y_pred_test = lin_reg_2.predict(poly_reg.fit_transform(X_test))\n",
    "\n",
    "y_pred = np.exp(y_pred)\n",
    "y_pred_test = np.exp(y_pred_test)\n",
    "y = np.exp(y)\n",
    "rmsle(y_pred, y)\n",
    "\n",
    "submission = pd.DataFrame( y_pred_test, columns = [ 'SalePrice'])\n",
    "submission.loc[:, 'Id'] = test['Id']\n",
    "submission = submission[['Id', 'SalePrice']]\n",
    "submission.to_csv('submission.csv', index=False)"
   ]
  },
  {
   "cell_type": "code",
   "execution_count": null,
   "metadata": {
    "collapsed": true
   },
   "outputs": [],
   "source": [
    "submission.SalePrice.values.max()"
   ]
  },
  {
   "cell_type": "code",
   "execution_count": null,
   "metadata": {
    "collapsed": true
   },
   "outputs": [],
   "source": [
    "test = pd.get_dummies(test)"
   ]
  },
  {
   "cell_type": "code",
   "execution_count": null,
   "metadata": {
    "collapsed": true
   },
   "outputs": [],
   "source": [
    "train.select_dtypes(include=['object']).columns"
   ]
  },
  {
   "cell_type": "code",
   "execution_count": null,
   "metadata": {
    "collapsed": true
   },
   "outputs": [],
   "source": [
    "(missing_data_test[missing_data_test['Total']>0]).index"
   ]
  },
  {
   "cell_type": "code",
   "execution_count": null,
   "metadata": {
    "collapsed": true,
    "scrolled": true
   },
   "outputs": [],
   "source": [
    "drop = ['GarageQual_num', 'GarageCond_num', 'GarageQual', 'GarageCond', 'GarageYrBlt', 'GarageFinish','GarageType','BsmtExposure,'\\\n",
    "       'BsmtFinType2', 'BsmtFinType1', 'BsmtCond', 'BsmtCond_num', 'BsmtQual_num', 'MasVnrType', ]"
   ]
  },
  {
   "cell_type": "code",
   "execution_count": null,
   "metadata": {
    "collapsed": true
   },
   "outputs": [],
   "source": [
    "train.loc[:, 'log_price'] = np.log(train['SalePrice'])"
   ]
  },
  {
   "cell_type": "code",
   "execution_count": null,
   "metadata": {
    "collapsed": true
   },
   "outputs": [],
   "source": [
    "\n",
    "# plt.scatter(train['BsmtQual_num'], train['BsmtCond_num']);"
   ]
  },
  {
   "cell_type": "code",
   "execution_count": null,
   "metadata": {
    "collapsed": true
   },
   "outputs": [],
   "source": [
    "for coly in ['ExterQual', 'ExterCond', 'HeatingQC', 'KitchenQual' ]:\n",
    "    train.loc[:, coly] = train[coly].replace(to_replace = ['missing', 'Po', 'Fa', 'TA', 'Gd', 'Ex'],\\\n",
    "                                                          value = [0,1,2,3,4,5])\n",
    "    test.loc[:, coly] = test[coly].replace(to_replace=  ['missing', 'Po', 'Fa', 'TA', 'Gd', 'Ex'],\\\n",
    "                                                          value = [0,1,2,3,4,5])"
   ]
  },
  {
   "cell_type": "code",
   "execution_count": null,
   "metadata": {
    "collapsed": true
   },
   "outputs": [],
   "source": [
    "coly = 'SaleType'\n",
    "train.loc[:, coly] = train[coly].replace(to_replace = ['New', 'COD', 'CWD', 'Con', 'ConLD', 'ConLI', 'ConLw', 'Oth', 'Wd'],\\\n",
    "                                                      value = [1,0,0,0,0,0,0,0,0])\n",
    "test.loc[:, coly] = test[coly].replace(to_replace= ['New', 'COD', 'CWD', 'Con', 'ConLD', 'ConLI', 'ConLw', 'Oth', 'Wd'],\\\n",
    "                                                    value = [1,0,0,0,0,0,0,0,0])"
   ]
  },
  {
   "cell_type": "code",
   "execution_count": null,
   "metadata": {
    "collapsed": true
   },
   "outputs": [],
   "source": [
    "keep = ['Id', 'log_price', 'SalePrice', 'LotShape', 'HouseStyle', 'RoofStyle', 'ExterQual', 'ExterCond', \\\n",
    "        'HeatingQC', 'KitchenQual', 'PavedDrive', 'SaleType', 'Foundation', 'OverallQual', \\\n",
    "        'GrLivArea', 'GarageCars', 'TotalBsmtSF', 'FullBath', 'YearBuilt', 'BsmtQual']"
   ]
  },
  {
   "cell_type": "code",
   "execution_count": null,
   "metadata": {
    "collapsed": true
   },
   "outputs": [],
   "source": [
    "train = train[keep]\n",
    "test = test[list(set(keep) -  set(['log_price', 'SalePrice']))]"
   ]
  },
  {
   "cell_type": "code",
   "execution_count": null,
   "metadata": {
    "collapsed": true
   },
   "outputs": [],
   "source": []
  }
 ],
 "metadata": {
  "kernelspec": {
   "display_name": "Python 3",
   "language": "python",
   "name": "python3"
  },
  "language_info": {
   "codemirror_mode": {
    "name": "ipython",
    "version": 3
   },
   "file_extension": ".py",
   "mimetype": "text/x-python",
   "name": "python",
   "nbconvert_exporter": "python",
   "pygments_lexer": "ipython3",
   "version": "3.6.2"
  }
 },
 "nbformat": 4,
 "nbformat_minor": 2
}
